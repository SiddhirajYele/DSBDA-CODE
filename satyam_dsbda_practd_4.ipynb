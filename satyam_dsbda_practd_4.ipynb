{
 "cells": [
  {
   "cell_type": "code",
   "execution_count": 1,
   "id": "baa7e67c-9842-4a79-afc6-797a350df916",
   "metadata": {},
   "outputs": [],
   "source": [
    "import pandas as pd"
   ]
  },
  {
   "cell_type": "code",
   "execution_count": 2,
   "id": "5e08c000-bff1-4467-ad3e-c39f844f622f",
   "metadata": {},
   "outputs": [],
   "source": [
    "df = pd.read_csv(\"Alexa-Dataset.csv\")"
   ]
  },
  {
   "cell_type": "code",
   "execution_count": 4,
   "id": "2ca36031-20ff-4cd4-b67b-f231ff5735c8",
   "metadata": {},
   "outputs": [
    {
     "data": {
      "text/html": [
       "<div>\n",
       "<style scoped>\n",
       "    .dataframe tbody tr th:only-of-type {\n",
       "        vertical-align: middle;\n",
       "    }\n",
       "\n",
       "    .dataframe tbody tr th {\n",
       "        vertical-align: top;\n",
       "    }\n",
       "\n",
       "    .dataframe thead th {\n",
       "        text-align: right;\n",
       "    }\n",
       "</style>\n",
       "<table border=\"1\" class=\"dataframe\">\n",
       "  <thead>\n",
       "    <tr style=\"text-align: right;\">\n",
       "      <th></th>\n",
       "      <th>rating</th>\n",
       "      <th>date</th>\n",
       "      <th>variation</th>\n",
       "      <th>verified_reviews</th>\n",
       "      <th>feedback</th>\n",
       "    </tr>\n",
       "  </thead>\n",
       "  <tbody>\n",
       "    <tr>\n",
       "      <th>0</th>\n",
       "      <td>5</td>\n",
       "      <td>31-Jul-18</td>\n",
       "      <td>Charcoal Fabric</td>\n",
       "      <td>Love my Echo!</td>\n",
       "      <td>1</td>\n",
       "    </tr>\n",
       "    <tr>\n",
       "      <th>1</th>\n",
       "      <td>5</td>\n",
       "      <td>31-Jul-18</td>\n",
       "      <td>Charcoal Fabric</td>\n",
       "      <td>Loved it!</td>\n",
       "      <td>1</td>\n",
       "    </tr>\n",
       "    <tr>\n",
       "      <th>2</th>\n",
       "      <td>4</td>\n",
       "      <td>31-Jul-18</td>\n",
       "      <td>Walnut Finish</td>\n",
       "      <td>Sometimes while playing a game, you can answer...</td>\n",
       "      <td>1</td>\n",
       "    </tr>\n",
       "    <tr>\n",
       "      <th>3</th>\n",
       "      <td>5</td>\n",
       "      <td>31-Jul-18</td>\n",
       "      <td>Charcoal Fabric</td>\n",
       "      <td>I have had a lot of fun with this thing. My 4 ...</td>\n",
       "      <td>1</td>\n",
       "    </tr>\n",
       "    <tr>\n",
       "      <th>4</th>\n",
       "      <td>5</td>\n",
       "      <td>31-Jul-18</td>\n",
       "      <td>Charcoal Fabric</td>\n",
       "      <td>Music</td>\n",
       "      <td>1</td>\n",
       "    </tr>\n",
       "    <tr>\n",
       "      <th>...</th>\n",
       "      <td>...</td>\n",
       "      <td>...</td>\n",
       "      <td>...</td>\n",
       "      <td>...</td>\n",
       "      <td>...</td>\n",
       "    </tr>\n",
       "    <tr>\n",
       "      <th>3145</th>\n",
       "      <td>5</td>\n",
       "      <td>30-Jul-18</td>\n",
       "      <td>Black  Dot</td>\n",
       "      <td>Perfect for kids, adults and everyone in betwe...</td>\n",
       "      <td>1</td>\n",
       "    </tr>\n",
       "    <tr>\n",
       "      <th>3146</th>\n",
       "      <td>5</td>\n",
       "      <td>30-Jul-18</td>\n",
       "      <td>Black  Dot</td>\n",
       "      <td>Listening to music, searching locations, check...</td>\n",
       "      <td>1</td>\n",
       "    </tr>\n",
       "    <tr>\n",
       "      <th>3147</th>\n",
       "      <td>5</td>\n",
       "      <td>30-Jul-18</td>\n",
       "      <td>Black  Dot</td>\n",
       "      <td>I do love these things, i have them running my...</td>\n",
       "      <td>1</td>\n",
       "    </tr>\n",
       "    <tr>\n",
       "      <th>3148</th>\n",
       "      <td>5</td>\n",
       "      <td>30-Jul-18</td>\n",
       "      <td>White  Dot</td>\n",
       "      <td>Only complaint I have is that the sound qualit...</td>\n",
       "      <td>1</td>\n",
       "    </tr>\n",
       "    <tr>\n",
       "      <th>3149</th>\n",
       "      <td>4</td>\n",
       "      <td>29-Jul-18</td>\n",
       "      <td>Black  Dot</td>\n",
       "      <td>Good</td>\n",
       "      <td>1</td>\n",
       "    </tr>\n",
       "  </tbody>\n",
       "</table>\n",
       "<p>3150 rows × 5 columns</p>\n",
       "</div>"
      ],
      "text/plain": [
       "      rating       date         variation  \\\n",
       "0          5  31-Jul-18  Charcoal Fabric    \n",
       "1          5  31-Jul-18  Charcoal Fabric    \n",
       "2          4  31-Jul-18    Walnut Finish    \n",
       "3          5  31-Jul-18  Charcoal Fabric    \n",
       "4          5  31-Jul-18  Charcoal Fabric    \n",
       "...      ...        ...               ...   \n",
       "3145       5  30-Jul-18        Black  Dot   \n",
       "3146       5  30-Jul-18        Black  Dot   \n",
       "3147       5  30-Jul-18        Black  Dot   \n",
       "3148       5  30-Jul-18        White  Dot   \n",
       "3149       4  29-Jul-18        Black  Dot   \n",
       "\n",
       "                                       verified_reviews  feedback  \n",
       "0                                         Love my Echo!         1  \n",
       "1                                             Loved it!         1  \n",
       "2     Sometimes while playing a game, you can answer...         1  \n",
       "3     I have had a lot of fun with this thing. My 4 ...         1  \n",
       "4                                                 Music         1  \n",
       "...                                                 ...       ...  \n",
       "3145  Perfect for kids, adults and everyone in betwe...         1  \n",
       "3146  Listening to music, searching locations, check...         1  \n",
       "3147  I do love these things, i have them running my...         1  \n",
       "3148  Only complaint I have is that the sound qualit...         1  \n",
       "3149                                               Good         1  \n",
       "\n",
       "[3150 rows x 5 columns]"
      ]
     },
     "execution_count": 4,
     "metadata": {},
     "output_type": "execute_result"
    }
   ],
   "source": [
    "df"
   ]
  },
  {
   "cell_type": "code",
   "execution_count": 5,
   "id": "24626f13-8a09-4217-ad75-d961ad19a37d",
   "metadata": {},
   "outputs": [
    {
     "name": "stdout",
     "output_type": "stream",
     "text": [
      "<class 'pandas.core.frame.DataFrame'>\n",
      "RangeIndex: 3150 entries, 0 to 3149\n",
      "Data columns (total 5 columns):\n",
      " #   Column            Non-Null Count  Dtype \n",
      "---  ------            --------------  ----- \n",
      " 0   rating            3150 non-null   int64 \n",
      " 1   date              3150 non-null   object\n",
      " 2   variation         3150 non-null   object\n",
      " 3   verified_reviews  3149 non-null   object\n",
      " 4   feedback          3150 non-null   int64 \n",
      "dtypes: int64(2), object(3)\n",
      "memory usage: 123.2+ KB\n"
     ]
    }
   ],
   "source": [
    "df.info()"
   ]
  },
  {
   "cell_type": "code",
   "execution_count": 7,
   "id": "34a41330-7af5-4235-8fb9-38f8d8806990",
   "metadata": {},
   "outputs": [
    {
     "data": {
      "text/plain": [
       "(3150, 5)"
      ]
     },
     "execution_count": 7,
     "metadata": {},
     "output_type": "execute_result"
    }
   ],
   "source": [
    "df.shape"
   ]
  },
  {
   "cell_type": "code",
   "execution_count": 8,
   "id": "fc893d4d-1202-4383-836d-00237ffdad6a",
   "metadata": {},
   "outputs": [
    {
     "data": {
      "text/plain": [
       "rating              0\n",
       "date                0\n",
       "variation           0\n",
       "verified_reviews    1\n",
       "feedback            0\n",
       "dtype: int64"
      ]
     },
     "execution_count": 8,
     "metadata": {},
     "output_type": "execute_result"
    }
   ],
   "source": [
    "df.isnull().sum()"
   ]
  },
  {
   "cell_type": "markdown",
   "id": "220df921-ae59-45fa-9b10-7e605d7e2afd",
   "metadata": {},
   "source": [
    "# Plot a graph of Positive and Negative Feedback (1 = Positive Feedback, 0 = Negative Feedback)"
   ]
  },
  {
   "cell_type": "code",
   "execution_count": 9,
   "id": "d8157fc3-53d5-4454-ba3b-f6b93c679d4b",
   "metadata": {},
   "outputs": [],
   "source": [
    "import matplotlib.pyplot as plt\n",
    "import seaborn as sns"
   ]
  },
  {
   "cell_type": "code",
   "execution_count": null,
   "id": "fca5d2be-6bb7-4899-9044-114866e2500e",
   "metadata": {},
   "outputs": [],
   "source": []
  },
  {
   "cell_type": "code",
   "execution_count": 11,
   "id": "8ac1027a-868a-472c-8c86-46564a6cb62e",
   "metadata": {},
   "outputs": [
    {
     "name": "stderr",
     "output_type": "stream",
     "text": [
      "C:\\Users\\siddhiraj yele\\AppData\\Local\\Temp\\ipykernel_15080\\4214687043.py:1: FutureWarning: \n",
      "\n",
      "Passing `palette` without assigning `hue` is deprecated and will be removed in v0.14.0. Assign the `x` variable to `hue` and set `legend=False` for the same effect.\n",
      "\n",
      "  sns.countplot(x=df[\"feedback\"], palette=[\"red\", \"green\"])\n"
     ]
    },
    {
     "data": {
      "text/plain": [
       "([<matplotlib.axis.XTick at 0x183ce862990>,\n",
       "  <matplotlib.axis.XTick at 0x183ce862d20>],\n",
       " [Text(0, 0, 'Negative'), Text(1, 0, 'Positive')])"
      ]
     },
     "execution_count": 11,
     "metadata": {},
     "output_type": "execute_result"
    },
    {
     "data": {
      "image/png": "[encoded data removed]",
      "text/plain": [
       "<Figure size 640x480 with 1 Axes>"
      ]
     },
     "metadata": {},
     "output_type": "display_data"
    }
   ],
   "source": [
    "sns.countplot(x=df[\"feedback\"], palette=[\"red\", \"green\"])\n",
    "plt.xticks(ticks=[0, 1], labels=[\"Negative\", \"Positive\"])"
   ]
  },
  {
   "cell_type": "markdown",
   "id": "9a3956aa-938c-4012-874d-ac98d776a439",
   "metadata": {},
   "source": [
    "# Plot the graph of Ratings distribution."
   ]
  },
  {
   "cell_type": "code",
   "execution_count": 12,
   "id": "9a753613-c5c8-4f1e-bd7e-8063130b51c6",
   "metadata": {},
   "outputs": [
    {
     "name": "stderr",
     "output_type": "stream",
     "text": [
      "C:\\Users\\siddhiraj yele\\AppData\\Local\\Temp\\ipykernel_15080\\1266232429.py:1: FutureWarning: \n",
      "\n",
      "Passing `palette` without assigning `hue` is deprecated and will be removed in v0.14.0. Assign the `x` variable to `hue` and set `legend=False` for the same effect.\n",
      "\n",
      "  sns.countplot(x=df[\"rating\"], palette=\"viridis\")\n"
     ]
    },
    {
     "data": {
      "text/plain": [
       "<Axes: xlabel='rating', ylabel='count'>"
      ]
     },
     "execution_count": 12,
     "metadata": {},
     "output_type": "execute_result"
    },
    {
     "data": {
      "image/png": "[encoded data removed]",
      "text/plain": [
       "<Figure size 640x480 with 1 Axes>"
      ]
     },
     "metadata": {},
     "output_type": "display_data"
    }
   ],
   "source": [
    "sns.countplot(x=df[\"rating\"], palette=\"viridis\")"
   ]
  },
  {
   "cell_type": "code",
   "execution_count": 13,
   "id": "1cc9031d-763f-4f2b-ad43-13e58b17e06d",
   "metadata": {},
   "outputs": [],
   "source": [
    "import re\n",
    "import string\n",
    "import nltk"
   ]
  },
  {
   "cell_type": "markdown",
   "id": "96438c9a-6a41-4f92-83c2-eb1e10905add",
   "metadata": {},
   "source": [
    "# Convert the review text into lowercase"
   ]
  },
  {
   "cell_type": "code",
   "execution_count": 33,
   "id": "80cb2210-cc1c-42b0-8308-d257985bb13f",
   "metadata": {},
   "outputs": [
    {
     "data": {
      "text/html": [
       "<div>\n",
       "<style scoped>\n",
       "    .dataframe tbody tr th:only-of-type {\n",
       "        vertical-align: middle;\n",
       "    }\n",
       "\n",
       "    .dataframe tbody tr th {\n",
       "        vertical-align: top;\n",
       "    }\n",
       "\n",
       "    .dataframe thead th {\n",
       "        text-align: right;\n",
       "    }\n",
       "</style>\n",
       "<table border=\"1\" class=\"dataframe\">\n",
       "  <thead>\n",
       "    <tr style=\"text-align: right;\">\n",
       "      <th></th>\n",
       "      <th>rating</th>\n",
       "      <th>date</th>\n",
       "      <th>variation</th>\n",
       "      <th>verified_reviews</th>\n",
       "      <th>feedback</th>\n",
       "    </tr>\n",
       "  </thead>\n",
       "  <tbody>\n",
       "    <tr>\n",
       "      <th>0</th>\n",
       "      <td>5</td>\n",
       "      <td>31-jul-18</td>\n",
       "      <td>charcoal fabric</td>\n",
       "      <td>love my echo!</td>\n",
       "      <td>1</td>\n",
       "    </tr>\n",
       "    <tr>\n",
       "      <th>1</th>\n",
       "      <td>5</td>\n",
       "      <td>31-jul-18</td>\n",
       "      <td>charcoal fabric</td>\n",
       "      <td>loved it!</td>\n",
       "      <td>1</td>\n",
       "    </tr>\n",
       "    <tr>\n",
       "      <th>2</th>\n",
       "      <td>4</td>\n",
       "      <td>31-jul-18</td>\n",
       "      <td>walnut finish</td>\n",
       "      <td>sometimes while playing a game, you can answer...</td>\n",
       "      <td>1</td>\n",
       "    </tr>\n",
       "    <tr>\n",
       "      <th>3</th>\n",
       "      <td>5</td>\n",
       "      <td>31-jul-18</td>\n",
       "      <td>charcoal fabric</td>\n",
       "      <td>i have had a lot of fun with this thing. my 4 ...</td>\n",
       "      <td>1</td>\n",
       "    </tr>\n",
       "    <tr>\n",
       "      <th>4</th>\n",
       "      <td>5</td>\n",
       "      <td>31-jul-18</td>\n",
       "      <td>charcoal fabric</td>\n",
       "      <td>music</td>\n",
       "      <td>1</td>\n",
       "    </tr>\n",
       "    <tr>\n",
       "      <th>...</th>\n",
       "      <td>...</td>\n",
       "      <td>...</td>\n",
       "      <td>...</td>\n",
       "      <td>...</td>\n",
       "      <td>...</td>\n",
       "    </tr>\n",
       "    <tr>\n",
       "      <th>3145</th>\n",
       "      <td>5</td>\n",
       "      <td>30-jul-18</td>\n",
       "      <td>black  dot</td>\n",
       "      <td>perfect for kids, adults and everyone in betwe...</td>\n",
       "      <td>1</td>\n",
       "    </tr>\n",
       "    <tr>\n",
       "      <th>3146</th>\n",
       "      <td>5</td>\n",
       "      <td>30-jul-18</td>\n",
       "      <td>black  dot</td>\n",
       "      <td>listening to music, searching locations, check...</td>\n",
       "      <td>1</td>\n",
       "    </tr>\n",
       "    <tr>\n",
       "      <th>3147</th>\n",
       "      <td>5</td>\n",
       "      <td>30-jul-18</td>\n",
       "      <td>black  dot</td>\n",
       "      <td>i do love these things, i have them running my...</td>\n",
       "      <td>1</td>\n",
       "    </tr>\n",
       "    <tr>\n",
       "      <th>3148</th>\n",
       "      <td>5</td>\n",
       "      <td>30-jul-18</td>\n",
       "      <td>white  dot</td>\n",
       "      <td>only complaint i have is that the sound qualit...</td>\n",
       "      <td>1</td>\n",
       "    </tr>\n",
       "    <tr>\n",
       "      <th>3149</th>\n",
       "      <td>4</td>\n",
       "      <td>29-jul-18</td>\n",
       "      <td>black  dot</td>\n",
       "      <td>good</td>\n",
       "      <td>1</td>\n",
       "    </tr>\n",
       "  </tbody>\n",
       "</table>\n",
       "<p>3150 rows × 5 columns</p>\n",
       "</div>"
      ],
      "text/plain": [
       "     rating       date         variation  \\\n",
       "0         5  31-jul-18  charcoal fabric    \n",
       "1         5  31-jul-18  charcoal fabric    \n",
       "2         4  31-jul-18    walnut finish    \n",
       "3         5  31-jul-18  charcoal fabric    \n",
       "4         5  31-jul-18  charcoal fabric    \n",
       "...     ...        ...               ...   \n",
       "3145      5  30-jul-18        black  dot   \n",
       "3146      5  30-jul-18        black  dot   \n",
       "3147      5  30-jul-18        black  dot   \n",
       "3148      5  30-jul-18        white  dot   \n",
       "3149      4  29-jul-18        black  dot   \n",
       "\n",
       "                                       verified_reviews feedback  \n",
       "0                                         love my echo!        1  \n",
       "1                                             loved it!        1  \n",
       "2     sometimes while playing a game, you can answer...        1  \n",
       "3     i have had a lot of fun with this thing. my 4 ...        1  \n",
       "4                                                 music        1  \n",
       "...                                                 ...      ...  \n",
       "3145  perfect for kids, adults and everyone in betwe...        1  \n",
       "3146  listening to music, searching locations, check...        1  \n",
       "3147  i do love these things, i have them running my...        1  \n",
       "3148  only complaint i have is that the sound qualit...        1  \n",
       "3149                                               good        1  \n",
       "\n",
       "[3150 rows x 5 columns]"
      ]
     },
     "execution_count": 33,
     "metadata": {},
     "output_type": "execute_result"
    }
   ],
   "source": [
    "Alexa_dataset_lower = df.apply(lambda x: x.astype(str).str.lower())\n",
    "Alexa_dataset_lower"
   ]
  },
  {
   "cell_type": "markdown",
   "id": "8858c72c-2f9a-4663-ad13-3e26dbfe593b",
   "metadata": {},
   "source": [
    "# Remove all punctuations from review text."
   ]
  },
  {
   "cell_type": "code",
   "execution_count": 35,
   "id": "ff7f1a7e-64d1-4efd-81b6-132a191ed1f9",
   "metadata": {},
   "outputs": [
    {
     "data": {
      "text/plain": [
       "'!\"#$%&\\'()*+,-./:;<=>?@[\\\\]^_`{|}~'"
      ]
     },
     "execution_count": 35,
     "metadata": {},
     "output_type": "execute_result"
    }
   ],
   "source": [
    "import string\n",
    "string.punctuation"
   ]
  },
  {
   "cell_type": "markdown",
   "id": "006c46f8-b7e6-4452-9c3b-87976d8ed555",
   "metadata": {},
   "source": [
    "#In below code first check if text is a string or not and if it is not string then return empty value"
   ]
  },
  {
   "cell_type": "code",
   "execution_count": 44,
   "id": "747953e4-4704-459f-89e1-9e550d6dcea7",
   "metadata": {},
   "outputs": [],
   "source": [
    "import string\n",
    "\n",
    "def remove_punctuation(text):\n",
    "    if isinstance(text, str): \n",
    "        return \"\".join([char for char in text if char not in string.punctuation])\n",
    "    return \"\"  \n",
    "\n",
    "df[\"clean_msg\"] = df[\"verified_reviews\"].apply(remove_punctuation)\n"
   ]
  },
  {
   "cell_type": "code",
   "execution_count": 45,
   "id": "8a46b5e0-3674-4d96-a207-4681c6d8eab6",
   "metadata": {},
   "outputs": [
    {
     "data": {
      "text/plain": [
       "0                                            Love my Echo\n",
       "1                                                Loved it\n",
       "2       Sometimes while playing a game you can answer ...\n",
       "3       I have had a lot of fun with this thing My 4 y...\n",
       "4                                                   Music\n",
       "                              ...                        \n",
       "3145      Perfect for kids adults and everyone in between\n",
       "3146    Listening to music searching locations checkin...\n",
       "3147    I do love these things i have them running my ...\n",
       "3148    Only complaint I have is that the sound qualit...\n",
       "3149                                                 Good\n",
       "Name: clean_msg, Length: 3150, dtype: object"
      ]
     },
     "execution_count": 45,
     "metadata": {},
     "output_type": "execute_result"
    }
   ],
   "source": [
    "df[\"clean_msg\"]"
   ]
  },
  {
   "cell_type": "markdown",
   "id": "a79e7bc9-cd06-4e94-88b9-05d274af481b",
   "metadata": {},
   "source": [
    "# Remove emoticons and emojis from the text"
   ]
  },
  {
   "cell_type": "code",
   "execution_count": 46,
   "id": "f56f03b7-e837-401c-b708-6240ec2794fe",
   "metadata": {},
   "outputs": [],
   "source": [
    "import re"
   ]
  },
  {
   "cell_type": "code",
   "execution_count": 52,
   "id": "cad7aa6f-0feb-4075-a827-5e6dec7ca342",
   "metadata": {},
   "outputs": [],
   "source": [
    "def preprocess_text(text):\n",
    "    if isinstance(text, str):  \n",
    "        return re.sub(r\"[^\\w\\s]\", \"\", text) \n",
    "    return \"\" \n",
    "df[\"cleaned_reviews\"] = df[\"verified_reviews\"].apply(preprocess_text)"
   ]
  },
  {
   "cell_type": "code",
   "execution_count": 53,
   "id": "90114fee-a645-44a3-86f8-b605b972e56d",
   "metadata": {},
   "outputs": [
    {
     "data": {
      "text/plain": [
       "0                                            Love my Echo\n",
       "1                                                Loved it\n",
       "2       Sometimes while playing a game you can answer ...\n",
       "3       I have had a lot of fun with this thing My 4 y...\n",
       "4                                                   Music\n",
       "                              ...                        \n",
       "3145      Perfect for kids adults and everyone in between\n",
       "3146    Listening to music searching locations checkin...\n",
       "3147    I do love these things i have them running my ...\n",
       "3148    Only complaint I have is that the sound qualit...\n",
       "3149                                                 Good\n",
       "Name: cleaned_reviews, Length: 3150, dtype: object"
      ]
     },
     "execution_count": 53,
     "metadata": {},
     "output_type": "execute_result"
    }
   ],
   "source": [
    "df[\"cleaned_reviews\"]"
   ]
  },
  {
   "cell_type": "markdown",
   "id": "d059e8cd-ac81-40dd-9bce-763a085f406f",
   "metadata": {},
   "source": [
    "# Tokenize the review text into words."
   ]
  },
  {
   "cell_type": "code",
   "execution_count": 54,
   "id": "7303e677-3c9c-458f-a9cd-044abfbef1b9",
   "metadata": {},
   "outputs": [],
   "source": [
    "def tokenization(text):\n",
    "    tokens = re.split('W+',text)\n",
    "    return tokens\n",
    "df['msg_tokenied']= df['cleaned_reviews'].apply(lambda x: tokenization(x))"
   ]
  },
  {
   "cell_type": "code",
   "execution_count": 55,
   "id": "501bdd19-bf99-43f0-93e8-8ad37cdf9f73",
   "metadata": {},
   "outputs": [
    {
     "data": {
      "text/plain": [
       "0                                          [Love my Echo]\n",
       "1                                              [Loved it]\n",
       "2       [Sometimes while playing a game you can answer...\n",
       "3       [I have had a lot of fun with this thing My 4 ...\n",
       "4                                                 [Music]\n",
       "                              ...                        \n",
       "3145    [Perfect for kids adults and everyone in between]\n",
       "3146    [Listening to music searching locations checki...\n",
       "3147    [I do love these things i have them running my...\n",
       "3148    [Only complaint I have is that the sound quali...\n",
       "3149                                               [Good]\n",
       "Name: msg_tokenied, Length: 3150, dtype: object"
      ]
     },
     "execution_count": 55,
     "metadata": {},
     "output_type": "execute_result"
    }
   ],
   "source": [
    "df['msg_tokenied']"
   ]
  },
  {
   "cell_type": "markdown",
   "id": "782fcb0d-4780-4ad9-8851-78b5e03f7326",
   "metadata": {},
   "source": [
    "# Remove the Stopwords from the tokenized text."
   ]
  },
  {
   "cell_type": "code",
   "execution_count": 57,
   "id": "91bc0832-2133-4cbc-a9d0-20575081133e",
   "metadata": {},
   "outputs": [
    {
     "name": "stderr",
     "output_type": "stream",
     "text": [
      "[nltk_data] Downloading package stopwords to C:\\Users\\siddhiraj\n",
      "[nltk_data]     yele\\AppData\\Roaming\\nltk_data...\n",
      "[nltk_data]   Unzipping corpora\\stopwords.zip.\n"
     ]
    },
    {
     "data": {
      "text/plain": [
       "True"
      ]
     },
     "execution_count": 57,
     "metadata": {},
     "output_type": "execute_result"
    }
   ],
   "source": [
    "from nltk.corpus import stopwords\n",
    "nltk.download('stopwords')"
   ]
  },
  {
   "cell_type": "code",
   "execution_count": 61,
   "id": "19cd8526-4040-430a-a83a-0ca0f77d721b",
   "metadata": {},
   "outputs": [
    {
     "data": {
      "text/plain": [
       "0                                           ['Love Echo']\n",
       "1                                            ['Loved it']\n",
       "2       ['Sometimes playing game answer question corre...\n",
       "3       ['I lot fun thing My 4 yr old learns dinosaurs...\n",
       "4                                               ['Music']\n",
       "                              ...                        \n",
       "3145             ['Perfect kids adults everyone between']\n",
       "3146    ['Listening music searching locations checking...\n",
       "3147    ['I love things running entire home TV lights ...\n",
       "3148    ['Only complaint I sound quality isnt great I ...\n",
       "3149                                             ['Good']\n",
       "Name: review_stop, Length: 3150, dtype: object"
      ]
     },
     "execution_count": 61,
     "metadata": {},
     "output_type": "execute_result"
    }
   ],
   "source": [
    "STOPWORDS = set(stopwords.words('english'))\n",
    "def remove_stopwords(text):\n",
    "    \"\"\"custom function to remove the stopwords\"\"\"\n",
    "    return \" \".join([word for word in str(text).split() if word not in STOPWORDS])\n",
    "\n",
    "df[\"review_stop\"] = df[\"msg_tokenied\"].apply(lambda text: remove_stopwords(text))\n",
    "df[\"review_stop\"]"
   ]
  },
  {
   "cell_type": "markdown",
   "id": "d35a75b4-d6a9-46b5-b761-3c92c9a3b031",
   "metadata": {},
   "source": [
    "# Perform stemming & lemmatization on the review text."
   ]
  },
  {
   "cell_type": "code",
   "execution_count": 60,
   "id": "c53f4898-9bbd-4950-afac-ee02be4b746e",
   "metadata": {},
   "outputs": [],
   "source": [
    "from nltk.stem.porter import PorterStemmer"
   ]
  },
  {
   "cell_type": "code",
   "execution_count": 62,
   "id": "8482386f-125a-4ce8-a2a9-86dcdc9569c1",
   "metadata": {},
   "outputs": [
    {
     "data": {
      "text/plain": [
       "0                                           ['love echo']\n",
       "1                                             ['love it']\n",
       "2       ['sometim play game answer question correctli ...\n",
       "3       ['i lot fun thing my 4 yr old learn dinosaur c...\n",
       "4                                               ['music']\n",
       "                              ...                        \n",
       "3145                ['perfect kid adult everyon between']\n",
       "3146    ['listen music search locat check time look we...\n",
       "3147    ['i love thing run entir home tv light thermos...\n",
       "3148    ['onli complaint i sound qualiti isnt great i ...\n",
       "3149                                             ['good']\n",
       "Name: review_stemmed, Length: 3150, dtype: object"
      ]
     },
     "execution_count": 62,
     "metadata": {},
     "output_type": "execute_result"
    }
   ],
   "source": [
    "stemmer = PorterStemmer()\n",
    "def stem_words(text):\n",
    "    return \" \".join([stemmer.stem(word) for word in text.split()])\n",
    "\n",
    "df[\"review_stemmed\"] = df[\"review_stop\"].apply(lambda text: stem_words(text))\n",
    "df[\"review_stemmed\"]"
   ]
  },
  {
   "cell_type": "code",
   "execution_count": 63,
   "id": "d71b54b8-7836-4c4b-b032-f0641a1939df",
   "metadata": {},
   "outputs": [
    {
     "name": "stderr",
     "output_type": "stream",
     "text": [
      "[nltk_data] Downloading package wordnet to C:\\Users\\siddhiraj\n",
      "[nltk_data]     yele\\AppData\\Roaming\\nltk_data...\n"
     ]
    },
    {
     "data": {
      "text/plain": [
       "True"
      ]
     },
     "execution_count": 63,
     "metadata": {},
     "output_type": "execute_result"
    }
   ],
   "source": [
    "from nltk.stem import WordNetLemmatizer\n",
    "nltk.download('wordnet')"
   ]
  },
  {
   "cell_type": "code",
   "execution_count": 64,
   "id": "21f87dfe-2ced-4159-b2a8-4acb8d7774fd",
   "metadata": {},
   "outputs": [],
   "source": [
    "lemmatizer = WordNetLemmatizer()\n",
    "def lemmatize_words(text):\n",
    "    return \" \".join([lemmatizer.lemmatize(word) for word in text.split()])\n",
    "\n",
    "df[\"review_lemmatized\"] = df[\"review_stop\"].apply(lambda text: lemmatize_words(text))"
   ]
  },
  {
   "cell_type": "code",
   "execution_count": 65,
   "id": "81a4a44f-8f2c-4c23-8f5e-1f82c2373482",
   "metadata": {},
   "outputs": [
    {
     "data": {
      "text/plain": [
       "0                                           ['Love Echo']\n",
       "1                                            ['Loved it']\n",
       "2       ['Sometimes playing game answer question corre...\n",
       "3       ['I lot fun thing My 4 yr old learns dinosaur ...\n",
       "4                                               ['Music']\n",
       "                              ...                        \n",
       "3145               ['Perfect kid adult everyone between']\n",
       "3146    ['Listening music searching location checking ...\n",
       "3147    ['I love thing running entire home TV light th...\n",
       "3148    ['Only complaint I sound quality isnt great I ...\n",
       "3149                                             ['Good']\n",
       "Name: review_lemmatized, Length: 3150, dtype: object"
      ]
     },
     "execution_count": 65,
     "metadata": {},
     "output_type": "execute_result"
    }
   ],
   "source": [
    "df[\"review_lemmatized\"]"
   ]
  },
  {
   "cell_type": "markdown",
   "id": "d6a4bc31-8afa-490c-b02c-03ce114df2f8",
   "metadata": {},
   "source": [
    "# Perform the word vectorization on review text using Bag of Words technique."
   ]
  },
  {
   "cell_type": "code",
   "execution_count": 72,
   "id": "cfe95aba-b1c9-41ea-b719-87f74b6910a7",
   "metadata": {},
   "outputs": [],
   "source": [
    "from sklearn.feature_extraction.text import CountVectorizer"
   ]
  },
  {
   "cell_type": "code",
   "execution_count": 73,
   "id": "0d57f403-33e6-4d57-b65c-d4060512e20d",
   "metadata": {},
   "outputs": [],
   "source": [
    "reviews = df[\"review_lemmatized\"].astype(str)"
   ]
  },
  {
   "cell_type": "code",
   "execution_count": 74,
   "id": "67056f47-bcbe-40b8-8e8d-9c7d67221ee7",
   "metadata": {},
   "outputs": [],
   "source": [
    "bow_vectorizer = CountVectorizer()\n",
    "bow_matrix = bow_vectorizer.fit_transform(reviews)"
   ]
  },
  {
   "cell_type": "code",
   "execution_count": 75,
   "id": "240edc48-9e30-4854-9adc-6203371954d5",
   "metadata": {},
   "outputs": [
    {
     "data": {
      "text/plain": [
       "(3150, 4265)"
      ]
     },
     "execution_count": 75,
     "metadata": {},
     "output_type": "execute_result"
    }
   ],
   "source": [
    "bow_matrix.shape"
   ]
  },
  {
   "cell_type": "markdown",
   "id": "bf58886e-79f5-4d06-b9ae-5650cb370bd1",
   "metadata": {},
   "source": [
    "# Create representation of Review Text by calculating Term Frequency and Inverse Document Frequency (TF-IDF)"
   ]
  },
  {
   "cell_type": "code",
   "execution_count": 78,
   "id": "3d515168-e12f-43fd-bfe3-9e9e8b94d712",
   "metadata": {},
   "outputs": [],
   "source": [
    "from sklearn.feature_extraction.text import TfidfVectorizer"
   ]
  },
  {
   "cell_type": "code",
   "execution_count": 79,
   "id": "1e6f8271-c89d-4387-883b-b27727235ff8",
   "metadata": {},
   "outputs": [],
   "source": [
    "tfidf_vectorizer = TfidfVectorizer()\n",
    "tfidf_matrix = tfidf_vectorizer.fit_transform(reviews)"
   ]
  },
  {
   "cell_type": "code",
   "execution_count": 80,
   "id": "a0d545c1-faac-4df8-9e99-bc5cb9efbc9b",
   "metadata": {},
   "outputs": [
    {
     "data": {
      "text/plain": [
       "(3150, 4265)"
      ]
     },
     "execution_count": 80,
     "metadata": {},
     "output_type": "execute_result"
    }
   ],
   "source": [
    "tfidf_matrix.shape"
   ]
  },
  {
   "cell_type": "code",
   "execution_count": null,
   "id": "edbd569b-85bb-447a-9eb3-821a6df2814c",
   "metadata": {},
   "outputs": [],
   "source": []
  }
 ],
 "metadata": {
  "kernelspec": {
   "display_name": "Python 3 (ipykernel)",
   "language": "python",
   "name": "python3"
  },
  "language_info": {
   "codemirror_mode": {
    "name": "ipython",
    "version": 3
   },
   "file_extension": ".py",
   "mimetype": "text/x-python",
   "name": "python",
   "nbconvert_exporter": "python",
   "pygments_lexer": "ipython3",
   "version": "3.12.4"
  }
 },
 "nbformat": 4,
 "nbformat_minor": 5
}
