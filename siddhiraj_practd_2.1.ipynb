{
 "cells": [
  {
   "cell_type": "markdown",
   "id": "922c2a10-8918-4b65-887c-a459f7b7448a",
   "metadata": {},
   "source": [
    "#IMPORT PANDAS LIBRARY"
   ]
  },
  {
   "cell_type": "code",
   "execution_count": 28,
   "id": "bb37350e-6036-462e-8e2f-b9b350370e31",
   "metadata": {},
   "outputs": [],
   "source": [
    "import pandas as pd "
   ]
  },
  {
   "cell_type": "code",
   "execution_count": 29,
   "id": "48809200-2d84-4e7e-ae8d-3c12a27845ab",
   "metadata": {},
   "outputs": [
    {
     "data": {
      "text/html": [
       "<div>\n",
       "<style scoped>\n",
       "    .dataframe tbody tr th:only-of-type {\n",
       "        vertical-align: middle;\n",
       "    }\n",
       "\n",
       "    .dataframe tbody tr th {\n",
       "        vertical-align: top;\n",
       "    }\n",
       "\n",
       "    .dataframe thead th {\n",
       "        text-align: right;\n",
       "    }\n",
       "</style>\n",
       "<table border=\"1\" class=\"dataframe\">\n",
       "  <thead>\n",
       "    <tr style=\"text-align: right;\">\n",
       "      <th></th>\n",
       "      <th>Id</th>\n",
       "      <th>SepalLengthCm</th>\n",
       "      <th>SepalWidthCm</th>\n",
       "      <th>PetalLengthCm</th>\n",
       "      <th>PetalWidthCm</th>\n",
       "      <th>Species</th>\n",
       "    </tr>\n",
       "  </thead>\n",
       "  <tbody>\n",
       "    <tr>\n",
       "      <th>0</th>\n",
       "      <td>1</td>\n",
       "      <td>5.1</td>\n",
       "      <td>3.5</td>\n",
       "      <td>1.4</td>\n",
       "      <td>0.2</td>\n",
       "      <td>Iris-setosa</td>\n",
       "    </tr>\n",
       "    <tr>\n",
       "      <th>1</th>\n",
       "      <td>2</td>\n",
       "      <td>4.9</td>\n",
       "      <td>3.0</td>\n",
       "      <td>1.4</td>\n",
       "      <td>0.2</td>\n",
       "      <td>Iris-setosa</td>\n",
       "    </tr>\n",
       "    <tr>\n",
       "      <th>2</th>\n",
       "      <td>3</td>\n",
       "      <td>4.7</td>\n",
       "      <td>3.2</td>\n",
       "      <td>1.3</td>\n",
       "      <td>0.2</td>\n",
       "      <td>Iris-setosa</td>\n",
       "    </tr>\n",
       "    <tr>\n",
       "      <th>3</th>\n",
       "      <td>4</td>\n",
       "      <td>4.6</td>\n",
       "      <td>3.1</td>\n",
       "      <td>1.5</td>\n",
       "      <td>0.2</td>\n",
       "      <td>Iris-setosa</td>\n",
       "    </tr>\n",
       "    <tr>\n",
       "      <th>4</th>\n",
       "      <td>5</td>\n",
       "      <td>5.0</td>\n",
       "      <td>3.6</td>\n",
       "      <td>1.4</td>\n",
       "      <td>0.2</td>\n",
       "      <td>Iris-setosa</td>\n",
       "    </tr>\n",
       "    <tr>\n",
       "      <th>...</th>\n",
       "      <td>...</td>\n",
       "      <td>...</td>\n",
       "      <td>...</td>\n",
       "      <td>...</td>\n",
       "      <td>...</td>\n",
       "      <td>...</td>\n",
       "    </tr>\n",
       "    <tr>\n",
       "      <th>145</th>\n",
       "      <td>146</td>\n",
       "      <td>6.7</td>\n",
       "      <td>3.0</td>\n",
       "      <td>5.2</td>\n",
       "      <td>2.3</td>\n",
       "      <td>Iris-virginica</td>\n",
       "    </tr>\n",
       "    <tr>\n",
       "      <th>146</th>\n",
       "      <td>147</td>\n",
       "      <td>6.3</td>\n",
       "      <td>2.5</td>\n",
       "      <td>5.0</td>\n",
       "      <td>1.9</td>\n",
       "      <td>Iris-virginica</td>\n",
       "    </tr>\n",
       "    <tr>\n",
       "      <th>147</th>\n",
       "      <td>148</td>\n",
       "      <td>6.5</td>\n",
       "      <td>3.0</td>\n",
       "      <td>5.2</td>\n",
       "      <td>2.0</td>\n",
       "      <td>Iris-virginica</td>\n",
       "    </tr>\n",
       "    <tr>\n",
       "      <th>148</th>\n",
       "      <td>149</td>\n",
       "      <td>6.2</td>\n",
       "      <td>3.4</td>\n",
       "      <td>5.4</td>\n",
       "      <td>2.3</td>\n",
       "      <td>Iris-virginica</td>\n",
       "    </tr>\n",
       "    <tr>\n",
       "      <th>149</th>\n",
       "      <td>150</td>\n",
       "      <td>5.9</td>\n",
       "      <td>3.0</td>\n",
       "      <td>5.1</td>\n",
       "      <td>1.8</td>\n",
       "      <td>Iris-virginica</td>\n",
       "    </tr>\n",
       "  </tbody>\n",
       "</table>\n",
       "<p>150 rows × 6 columns</p>\n",
       "</div>"
      ],
      "text/plain": [
       "      Id  SepalLengthCm  SepalWidthCm  PetalLengthCm  PetalWidthCm  \\\n",
       "0      1            5.1           3.5            1.4           0.2   \n",
       "1      2            4.9           3.0            1.4           0.2   \n",
       "2      3            4.7           3.2            1.3           0.2   \n",
       "3      4            4.6           3.1            1.5           0.2   \n",
       "4      5            5.0           3.6            1.4           0.2   \n",
       "..   ...            ...           ...            ...           ...   \n",
       "145  146            6.7           3.0            5.2           2.3   \n",
       "146  147            6.3           2.5            5.0           1.9   \n",
       "147  148            6.5           3.0            5.2           2.0   \n",
       "148  149            6.2           3.4            5.4           2.3   \n",
       "149  150            5.9           3.0            5.1           1.8   \n",
       "\n",
       "            Species  \n",
       "0       Iris-setosa  \n",
       "1       Iris-setosa  \n",
       "2       Iris-setosa  \n",
       "3       Iris-setosa  \n",
       "4       Iris-setosa  \n",
       "..              ...  \n",
       "145  Iris-virginica  \n",
       "146  Iris-virginica  \n",
       "147  Iris-virginica  \n",
       "148  Iris-virginica  \n",
       "149  Iris-virginica  \n",
       "\n",
       "[150 rows x 6 columns]"
      ]
     },
     "execution_count": 29,
     "metadata": {},
     "output_type": "execute_result"
    }
   ],
   "source": [
    "df = pd.read_csv('Iris.csv')\n",
    "df"
   ]
  },
  {
   "cell_type": "markdown",
   "id": "d661432a-bc10-4cde-bffd-fcce90751aa1",
   "metadata": {},
   "source": [
    "#CHECK THE COLUMNS"
   ]
  },
  {
   "cell_type": "code",
   "execution_count": 30,
   "id": "45fdaf75-733f-4da4-8551-b2f19762b8cd",
   "metadata": {},
   "outputs": [
    {
     "data": {
      "text/plain": [
       "Index(['Id', 'SepalLengthCm', 'SepalWidthCm', 'PetalLengthCm', 'PetalWidthCm',\n",
       "       'Species'],\n",
       "      dtype='object')"
      ]
     },
     "execution_count": 30,
     "metadata": {},
     "output_type": "execute_result"
    }
   ],
   "source": [
    "df.columns"
   ]
  },
  {
   "cell_type": "markdown",
   "id": "5f5781b6-f6f5-440e-a3f9-7bb7f59923ee",
   "metadata": {},
   "source": [
    "#CHECK THE SPECIES COLUMN IS EXIST OR NOT"
   ]
  },
  {
   "cell_type": "code",
   "execution_count": null,
   "id": "54941fee-44fe-4638-8765-be7cc95193e3",
   "metadata": {},
   "outputs": [
    {
     "data": {
      "text/plain": [
       "array(['Iris-setosa', 'Iris-versicolor', 'Iris-virginica'], dtype=object)"
      ]
     },
     "execution_count": 31,
     "metadata": {},
     "output_type": "execute_result"
    }
   ],
   "source": [
    "df = df.drop(columns=['Id'])\n",
    "df['Species'].unique()"
   ]
  },
  {
   "cell_type": "markdown",
   "id": "cc026ace-5612-4b02-825b-d847333d9c48",
   "metadata": {},
   "source": [
    "#HERE CALCULATE MEAN STANDARD DEVIATION AND PERCENTILE"
   ]
  },
  {
   "cell_type": "code",
   "execution_count": 32,
   "id": "c31bcde0-1dab-412a-8447-b494a9023d1f",
   "metadata": {},
   "outputs": [
    {
     "name": "stdout",
     "output_type": "stream",
     "text": [
      "\n",
      "Statistics for Iris-virginica:\n",
      "       SepalLengthCm  SepalWidthCm  PetalLengthCm  PetalWidthCm\n",
      "count       50.00000     50.000000      50.000000      50.00000\n",
      "mean         6.58800      2.974000       5.552000       2.02600\n",
      "std          0.63588      0.322497       0.551895       0.27465\n",
      "min          4.90000      2.200000       4.500000       1.40000\n",
      "25%          6.22500      2.800000       5.100000       1.80000\n",
      "50%          6.50000      3.000000       5.550000       2.00000\n",
      "75%          6.90000      3.175000       5.875000       2.30000\n",
      "max          7.90000      3.800000       6.900000       2.50000\n"
     ]
    }
   ],
   "source": [
    "print(f\"\\nStatistics for {species}:\")\n",
    "print(species_data.describe(percentiles=[0.25, 0.5, 0.75]))"
   ]
  },
  {
   "cell_type": "markdown",
   "id": "e88080ff-192a-4b1c-97b8-2dd5f302e2f7",
   "metadata": {},
   "source": [
    "#CALCULATE VARIENCE WITHOT USING LABRARY"
   ]
  },
  {
   "cell_type": "code",
   "execution_count": 17,
   "id": "a072f3e8-6bc6-4498-8212-988fba78f9c8",
   "metadata": {},
   "outputs": [
    {
     "name": "stdout",
     "output_type": "stream",
     "text": [
      "228.56666666666666\n"
     ]
    }
   ],
   "source": [
    "scores = [10,20,47,28,39,47]\n",
    "n = len(scores)\n",
    "score_mean = sum(scores) / n\n",
    "score_var = sum((item - score_mean)**2 for item in scores) / (n - 1)\n",
    "print(score_var)"
   ]
  },
  {
   "cell_type": "code",
   "execution_count": 36,
   "id": "07871a99-7d17-43ee-be7e-b683ece7b8d1",
   "metadata": {},
   "outputs": [],
   "source": [
    "import statistics\n",
    "import seaborn as sns\n",
    "import matplotlib.pyplot as plt"
   ]
  },
  {
   "cell_type": "markdown",
   "id": "5bb2d520-122d-4cfd-80f3-9d612d196776",
   "metadata": {},
   "source": [
    "#CALCULATE VARIABILITY "
   ]
  },
  {
   "cell_type": "code",
   "execution_count": 35,
   "id": "88c2670f-e077-4154-b60d-8ff92833bbf4",
   "metadata": {},
   "outputs": [
    {
     "name": "stdout",
     "output_type": "stream",
     "text": [
      "\n",
      "Measures of Variability:\n",
      "                SepalLengthCm                     SepalWidthCm            \\\n",
      "                          var       std      skew          var       std   \n",
      "Species                                                                    \n",
      "Iris-setosa          0.124249  0.352490  0.120087     0.145180  0.381024   \n",
      "Iris-versicolor      0.266433  0.516171  0.105378     0.098469  0.313798   \n",
      "Iris-virginica       0.404343  0.635880  0.118015     0.104004  0.322497   \n",
      "\n",
      "                          PetalLengthCm                     PetalWidthCm  \\\n",
      "                     skew           var       std      skew          var   \n",
      "Species                                                                    \n",
      "Iris-setosa      0.107053      0.030106  0.173511  0.071846     0.011494   \n",
      "Iris-versicolor -0.362845      0.220816  0.469911 -0.606508     0.039106   \n",
      "Iris-virginica   0.365949      0.304588  0.551895  0.549445     0.075433   \n",
      "\n",
      "                                     \n",
      "                      std      skew  \n",
      "Species                              \n",
      "Iris-setosa      0.107210  1.197243  \n",
      "Iris-versicolor  0.197753 -0.031180  \n",
      "Iris-virginica   0.274650 -0.129477  \n"
     ]
    }
   ],
   "source": [
    "print(\"\\nMeasures of Variability:\")\n",
    "var_measures = df.groupby('Species').agg(['var','std','skew'])\n",
    "print(var_measures)"
   ]
  },
  {
   "cell_type": "code",
   "execution_count": 38,
   "id": "466968ee-37d0-4fcb-ba7b-39938405a8f4",
   "metadata": {},
   "outputs": [
    {
     "name": "stdout",
     "output_type": "stream",
     "text": [
      "                SepalLengthCm                 SepalWidthCm                  \\\n",
      "                          var     std    skew          var     std    skew   \n",
      "Species                                                                      \n",
      "Iris-setosa            0.1242  0.3525  0.1201       0.1452  0.3810  0.1071   \n",
      "Iris-versicolor        0.2664  0.5162  0.1054       0.0985  0.3138 -0.3628   \n",
      "Iris-virginica         0.4043  0.6359  0.1180       0.1040  0.3225  0.3659   \n",
      "\n",
      "                PetalLengthCm                 PetalWidthCm                  \n",
      "                          var     std    skew          var     std    skew  \n",
      "Species                                                                     \n",
      "Iris-setosa            0.0301  0.1735  0.0718       0.0115  0.1072  1.1972  \n",
      "Iris-versicolor        0.2208  0.4699 -0.6065       0.0391  0.1978 -0.0312  \n",
      "Iris-virginica         0.3046  0.5519  0.5494       0.0754  0.2747 -0.1295  \n"
     ]
    }
   ],
   "source": [
    "var_measures = var_measures.round(4)\n",
    "print(var_measures)"
   ]
  },
  {
   "cell_type": "markdown",
   "id": "68afeed8-7217-4bb2-8880-703c8c51f5c1",
   "metadata": {},
   "source": [
    "#PRINT THE CORRELATION MATRIX FOR SPECIES"
   ]
  },
  {
   "cell_type": "code",
   "execution_count": 40,
   "id": "90835b11-a757-4934-91b7-5654ddc84215",
   "metadata": {},
   "outputs": [],
   "source": [
    "correlation_matrix = df.drop(columns=[\"Species\"]).corr()"
   ]
  },
  {
   "cell_type": "code",
   "execution_count": 41,
   "id": "ec168123-e825-4d03-af8c-3342f8402608",
   "metadata": {},
   "outputs": [
    {
     "name": "stdout",
     "output_type": "stream",
     "text": [
      "               SepalLengthCm  SepalWidthCm  PetalLengthCm  PetalWidthCm\n",
      "SepalLengthCm       1.000000     -0.109369       0.871754      0.817954\n",
      "SepalWidthCm       -0.109369      1.000000      -0.420516     -0.356544\n",
      "PetalLengthCm       0.871754     -0.420516       1.000000      0.962757\n",
      "PetalWidthCm        0.817954     -0.356544       0.962757      1.000000\n"
     ]
    }
   ],
   "source": [
    "print(correlation_matrix)"
   ]
  },
  {
   "cell_type": "markdown",
   "id": "b08d27a1-a1b5-4c61-98c1-be5a3748be31",
   "metadata": {},
   "source": [
    "#VISUALIZATION OF CORRELATION USING HEATMAP"
   ]
  },
  {
   "cell_type": "code",
   "execution_count": 42,
   "id": "18b52965-535e-41ff-abe8-e6e3670d3f05",
   "metadata": {},
   "outputs": [
    {
     "data": {
      "image/png": "[encoded data removed]",
      "text/plain": [
       "<Figure size 800x600 with 2 Axes>"
      ]
     },
     "metadata": {},
     "output_type": "display_data"
    }
   ],
   "source": [
    "plt.figure(figsize=(8, 6))\n",
    "sns.heatmap(correlation_matrix, annot=True, cmap=\"coolwarm\", linewidths=0.5)\n",
    "plt.title(\"Correlation Matrix of Iris Dataset\")\n",
    "plt.show()"
   ]
  },
  {
   "cell_type": "code",
   "execution_count": null,
   "id": "f2cf5414-025d-4202-911a-61e030f54d4c",
   "metadata": {},
   "outputs": [],
   "source": []
  }
 ],
 "metadata": {
  "kernelspec": {
   "display_name": "Python 3 (ipykernel)",
   "language": "python",
   "name": "python3"
  },
  "language_info": {
   "codemirror_mode": {
    "name": "ipython",
    "version": 3
   },
   "file_extension": ".py",
   "mimetype": "text/x-python",
   "name": "python",
   "nbconvert_exporter": "python",
   "pygments_lexer": "ipython3",
   "version": "3.12.4"
  }
 },
 "nbformat": 4,
 "nbformat_minor": 5
}
