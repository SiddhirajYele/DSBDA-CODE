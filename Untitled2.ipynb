{
 "cells": [
  {
   "cell_type": "markdown",
   "id": "86ce2cc1",
   "metadata": {},
   "source": [
    "#import pandas library"
   ]
  },
  {
   "cell_type": "code",
   "execution_count": 1,
   "id": "cb768065",
   "metadata": {},
   "outputs": [
    {
     "name": "stdout",
     "output_type": "stream",
     "text": [
      "      Id  SepalLengthCm  SepalWidthCm  PetalLengthCm  PetalWidthCm  \\\n",
      "0      1            5.1           3.5            1.4           0.2   \n",
      "1      2            4.9           3.0            1.4           0.2   \n",
      "2      3            4.7           3.2            1.3           0.2   \n",
      "3      4            4.6           3.1            1.5           0.2   \n",
      "4      5            5.0           3.6            1.4           0.2   \n",
      "..   ...            ...           ...            ...           ...   \n",
      "145  146            6.7           3.0            5.2           2.3   \n",
      "146  147            6.3           2.5            5.0           1.9   \n",
      "147  148            6.5           3.0            5.2           2.0   \n",
      "148  149            6.2           3.4            5.4           2.3   \n",
      "149  150            5.9           3.0            5.1           1.8   \n",
      "\n",
      "            Species  \n",
      "0       Iris-setosa  \n",
      "1       Iris-setosa  \n",
      "2       Iris-setosa  \n",
      "3       Iris-setosa  \n",
      "4       Iris-setosa  \n",
      "..              ...  \n",
      "145  Iris-virginica  \n",
      "146  Iris-virginica  \n",
      "147  Iris-virginica  \n",
      "148  Iris-virginica  \n",
      "149  Iris-virginica  \n",
      "\n",
      "[150 rows x 6 columns]\n"
     ]
    }
   ],
   "source": [
    "import pandas as pd\n",
    "df = pd.read_csv('Iris.csv')\n",
    "print(df)"
   ]
  },
  {
   "cell_type": "markdown",
   "id": "b3820f96",
   "metadata": {},
   "source": [
    "#drop Id column"
   ]
  },
  {
   "cell_type": "code",
   "execution_count": 77,
   "id": "8a79d1f6",
   "metadata": {},
   "outputs": [],
   "source": [
    "df.drop('Id',axis=1,inplace=True)"
   ]
  },
  {
   "cell_type": "markdown",
   "id": "c701f7f0",
   "metadata": {},
   "source": [
    "#Check the Shape"
   ]
  },
  {
   "cell_type": "code",
   "execution_count": 78,
   "id": "5b4357d5",
   "metadata": {},
   "outputs": [
    {
     "data": {
      "text/plain": [
       "(150, 5)"
      ]
     },
     "execution_count": 78,
     "metadata": {},
     "output_type": "execute_result"
    }
   ],
   "source": [
    "df.shape"
   ]
  },
  {
   "cell_type": "markdown",
   "id": "325556f8",
   "metadata": {},
   "source": [
    "#check null values"
   ]
  },
  {
   "cell_type": "code",
   "execution_count": 79,
   "id": "0db9a9dc",
   "metadata": {},
   "outputs": [],
   "source": [
    "null_values = df.isnull().sum()"
   ]
  },
  {
   "cell_type": "code",
   "execution_count": 80,
   "id": "079981d7",
   "metadata": {},
   "outputs": [
    {
     "data": {
      "text/plain": [
       "SepalLengthCm    0\n",
       "SepalWidthCm     0\n",
       "PetalLengthCm    0\n",
       "PetalWidthCm     0\n",
       "Species          0\n",
       "dtype: int64"
      ]
     },
     "execution_count": 80,
     "metadata": {},
     "output_type": "execute_result"
    }
   ],
   "source": [
    "null_values"
   ]
  },
  {
   "cell_type": "markdown",
   "id": "131021bf",
   "metadata": {},
   "source": [
    "#drop species from df and save in x"
   ]
  },
  {
   "cell_type": "code",
   "execution_count": 81,
   "id": "9df27bcf",
   "metadata": {},
   "outputs": [],
   "source": [
    "x=df.drop('Species',axis=1)"
   ]
  },
  {
   "cell_type": "code",
   "execution_count": 82,
   "id": "901d9c72",
   "metadata": {},
   "outputs": [],
   "source": [
    "y=df['Species']"
   ]
  },
  {
   "cell_type": "code",
   "execution_count": 83,
   "id": "66fb65da",
   "metadata": {},
   "outputs": [
    {
     "name": "stdout",
     "output_type": "stream",
     "text": [
      "     SepalLengthCm  SepalWidthCm  PetalLengthCm  PetalWidthCm\n",
      "0              5.1           3.5            1.4           0.2\n",
      "1              4.9           3.0            1.4           0.2\n",
      "2              4.7           3.2            1.3           0.2\n",
      "3              4.6           3.1            1.5           0.2\n",
      "4              5.0           3.6            1.4           0.2\n",
      "..             ...           ...            ...           ...\n",
      "145            6.7           3.0            5.2           2.3\n",
      "146            6.3           2.5            5.0           1.9\n",
      "147            6.5           3.0            5.2           2.0\n",
      "148            6.2           3.4            5.4           2.3\n",
      "149            5.9           3.0            5.1           1.8\n",
      "\n",
      "[150 rows x 4 columns]\n"
     ]
    }
   ],
   "source": [
    "print(x)"
   ]
  },
  {
   "cell_type": "code",
   "execution_count": 84,
   "id": "49a2e530",
   "metadata": {},
   "outputs": [
    {
     "name": "stdout",
     "output_type": "stream",
     "text": [
      "0         Iris-setosa\n",
      "1         Iris-setosa\n",
      "2         Iris-setosa\n",
      "3         Iris-setosa\n",
      "4         Iris-setosa\n",
      "            ...      \n",
      "145    Iris-virginica\n",
      "146    Iris-virginica\n",
      "147    Iris-virginica\n",
      "148    Iris-virginica\n",
      "149    Iris-virginica\n",
      "Name: Species, Length: 150, dtype: object\n"
     ]
    }
   ],
   "source": [
    "print(y)"
   ]
  },
  {
   "cell_type": "markdown",
   "id": "738fe2f5",
   "metadata": {},
   "source": [
    "#importing train_test_split"
   ]
  },
  {
   "cell_type": "code",
   "execution_count": 85,
   "id": "60b3da09",
   "metadata": {},
   "outputs": [],
   "source": [
    "from sklearn.model_selection import train_test_split"
   ]
  },
  {
   "cell_type": "markdown",
   "id": "eed57101",
   "metadata": {},
   "source": [
    "#train_test_split the x_train,x_test,y_train,y_test"
   ]
  },
  {
   "cell_type": "code",
   "execution_count": 86,
   "id": "4f665281",
   "metadata": {},
   "outputs": [],
   "source": [
    "x_train,x_test,y_train,y_test=train_test_split(x,y,test_size=0.25,random_state=1)"
   ]
  },
  {
   "cell_type": "code",
   "execution_count": 87,
   "id": "dd3ef3be",
   "metadata": {},
   "outputs": [
    {
     "name": "stdout",
     "output_type": "stream",
     "text": [
      "     SepalLengthCm  SepalWidthCm  PetalLengthCm  PetalWidthCm\n",
      "54             6.5           2.8            4.6           1.5\n",
      "108            6.7           2.5            5.8           1.8\n",
      "112            6.8           3.0            5.5           2.1\n",
      "17             5.1           3.5            1.4           0.3\n",
      "119            6.0           2.2            5.0           1.5\n",
      "..             ...           ...            ...           ...\n",
      "133            6.3           2.8            5.1           1.5\n",
      "137            6.4           3.1            5.5           1.8\n",
      "72             6.3           2.5            4.9           1.5\n",
      "140            6.7           3.1            5.6           2.4\n",
      "37             4.9           3.1            1.5           0.1\n",
      "\n",
      "[112 rows x 4 columns]\n"
     ]
    }
   ],
   "source": [
    "print(x_train)"
   ]
  },
  {
   "cell_type": "code",
   "execution_count": 88,
   "id": "66bef98f",
   "metadata": {},
   "outputs": [
    {
     "name": "stdout",
     "output_type": "stream",
     "text": [
      "54     Iris-versicolor\n",
      "108     Iris-virginica\n",
      "112     Iris-virginica\n",
      "17         Iris-setosa\n",
      "119     Iris-virginica\n",
      "            ...       \n",
      "133     Iris-virginica\n",
      "137     Iris-virginica\n",
      "72     Iris-versicolor\n",
      "140     Iris-virginica\n",
      "37         Iris-setosa\n",
      "Name: Species, Length: 112, dtype: object\n"
     ]
    }
   ],
   "source": [
    "print(y_train)"
   ]
  },
  {
   "cell_type": "code",
   "execution_count": 89,
   "id": "f5ab9d7b",
   "metadata": {},
   "outputs": [
    {
     "name": "stdout",
     "output_type": "stream",
     "text": [
      "     SepalLengthCm  SepalWidthCm  PetalLengthCm  PetalWidthCm\n",
      "14             5.8           4.0            1.2           0.2\n",
      "98             5.1           2.5            3.0           1.1\n",
      "75             6.6           3.0            4.4           1.4\n",
      "16             5.4           3.9            1.3           0.4\n",
      "131            7.9           3.8            6.4           2.0\n",
      "56             6.3           3.3            4.7           1.6\n",
      "141            6.9           3.1            5.1           2.3\n",
      "44             5.1           3.8            1.9           0.4\n",
      "29             4.7           3.2            1.6           0.2\n",
      "120            6.9           3.2            5.7           2.3\n",
      "94             5.6           2.7            4.2           1.3\n",
      "5              5.4           3.9            1.7           0.4\n",
      "102            7.1           3.0            5.9           2.1\n",
      "51             6.4           3.2            4.5           1.5\n",
      "78             6.0           2.9            4.5           1.5\n",
      "42             4.4           3.2            1.3           0.2\n",
      "92             5.8           2.6            4.0           1.2\n",
      "66             5.6           3.0            4.5           1.5\n",
      "31             5.4           3.4            1.5           0.4\n",
      "35             5.0           3.2            1.2           0.2\n",
      "90             5.5           2.6            4.4           1.2\n",
      "84             5.4           3.0            4.5           1.5\n",
      "77             6.7           3.0            5.0           1.7\n",
      "40             5.0           3.5            1.3           0.3\n",
      "125            7.2           3.2            6.0           1.8\n",
      "99             5.7           2.8            4.1           1.3\n",
      "33             5.5           4.2            1.4           0.2\n",
      "19             5.1           3.8            1.5           0.3\n",
      "73             6.1           2.8            4.7           1.2\n",
      "146            6.3           2.5            5.0           1.9\n",
      "91             6.1           3.0            4.6           1.4\n",
      "135            7.7           3.0            6.1           2.3\n",
      "69             5.6           2.5            3.9           1.1\n",
      "128            6.4           2.8            5.6           2.1\n",
      "114            5.8           2.8            5.1           2.4\n",
      "48             5.3           3.7            1.5           0.2\n",
      "53             5.5           2.3            4.0           1.3\n",
      "28             5.2           3.4            1.4           0.2\n"
     ]
    }
   ],
   "source": [
    "print(x_test)"
   ]
  },
  {
   "cell_type": "code",
   "execution_count": 90,
   "id": "fe3a0070",
   "metadata": {},
   "outputs": [
    {
     "name": "stdout",
     "output_type": "stream",
     "text": [
      "14         Iris-setosa\n",
      "98     Iris-versicolor\n",
      "75     Iris-versicolor\n",
      "16         Iris-setosa\n",
      "131     Iris-virginica\n",
      "56     Iris-versicolor\n",
      "141     Iris-virginica\n",
      "44         Iris-setosa\n",
      "29         Iris-setosa\n",
      "120     Iris-virginica\n",
      "94     Iris-versicolor\n",
      "5          Iris-setosa\n",
      "102     Iris-virginica\n",
      "51     Iris-versicolor\n",
      "78     Iris-versicolor\n",
      "42         Iris-setosa\n",
      "92     Iris-versicolor\n",
      "66     Iris-versicolor\n",
      "31         Iris-setosa\n",
      "35         Iris-setosa\n",
      "90     Iris-versicolor\n",
      "84     Iris-versicolor\n",
      "77     Iris-versicolor\n",
      "40         Iris-setosa\n",
      "125     Iris-virginica\n",
      "99     Iris-versicolor\n",
      "33         Iris-setosa\n",
      "19         Iris-setosa\n",
      "73     Iris-versicolor\n",
      "146     Iris-virginica\n",
      "91     Iris-versicolor\n",
      "135     Iris-virginica\n",
      "69     Iris-versicolor\n",
      "128     Iris-virginica\n",
      "114     Iris-virginica\n",
      "48         Iris-setosa\n",
      "53     Iris-versicolor\n",
      "28         Iris-setosa\n",
      "Name: Species, dtype: object\n"
     ]
    }
   ],
   "source": [
    "print(y_test)"
   ]
  },
  {
   "cell_type": "markdown",
   "id": "79a78413",
   "metadata": {},
   "source": [
    "#Preforming the scaling"
   ]
  },
  {
   "cell_type": "code",
   "execution_count": 91,
   "id": "87b3fe88",
   "metadata": {},
   "outputs": [],
   "source": [
    "from sklearn.preprocessing import StandardScaler\n",
    "std=StandardScaler()\n"
   ]
  },
  {
   "cell_type": "code",
   "execution_count": 92,
   "id": "0d9da2f5",
   "metadata": {},
   "outputs": [],
   "source": [
    "x_train = std.fit_transform(x_train)"
   ]
  },
  {
   "cell_type": "code",
   "execution_count": 93,
   "id": "3998b5c4",
   "metadata": {},
   "outputs": [],
   "source": [
    "x_test = std.fit_transform(x_test)"
   ]
  },
  {
   "cell_type": "code",
   "execution_count": 94,
   "id": "ae661448",
   "metadata": {},
   "outputs": [
    {
     "name": "stdout",
     "output_type": "stream",
     "text": [
      "[[ 8.03473255e-01 -5.32605965e-01  4.54251771e-01  3.80020799e-01]\n",
      " [ 1.04344393e+00 -1.25712258e+00  1.13184820e+00  7.69310398e-01]\n",
      " [ 1.16342927e+00 -4.95948874e-02  9.62449091e-01  1.15860000e+00]\n",
      " [-8.76321497e-01  1.15793281e+00 -1.35267203e+00 -1.17713760e+00]\n",
      " [ 2.03546558e-01 -1.98163920e+00  6.80117246e-01  3.80020799e-01]\n",
      " [ 5.63502576e-01 -2.91100426e-01  1.01891546e+00  7.69310398e-01]\n",
      " [ 9.23458594e-01 -2.91100426e-01  4.54251771e-01  1.20494400e-01]\n",
      " [ 2.24329733e+00 -1.01561704e+00  1.75297825e+00  1.41812640e+00]\n",
      " [-1.56409460e-01  1.88244942e+00 -1.18327293e+00 -1.17713760e+00]\n",
      " [-9.96306836e-01  1.39943835e+00 -1.35267203e+00 -1.30690080e+00]\n",
      " [-1.23627752e+00 -4.95948874e-02 -1.35267203e+00 -1.17713760e+00]\n",
      " [-7.56336157e-01 -7.74111504e-01  5.89871889e-02  2.50257599e-01]\n",
      " [-8.76321497e-01  9.16427268e-01 -1.29620566e+00 -1.30690080e+00]\n",
      " [-3.96380139e-01  1.15793281e+00 -1.40913840e+00 -1.30690080e+00]\n",
      " [ 2.24329733e+00  1.88244942e+00  1.64004552e+00  1.28836320e+00]\n",
      " [ 1.28341461e+00  1.91910651e-01  9.05982722e-01  1.15860000e+00]\n",
      " [ 1.76335597e+00 -2.91100426e-01  1.41418004e+00  7.69310398e-01]\n",
      " [ 6.83487916e-01 -5.32605965e-01  1.01891546e+00  1.28836320e+00]\n",
      " [ 4.43517237e-01 -5.32605965e-01  5.67184509e-01  7.69310398e-01]\n",
      " [ 2.03546558e-01  9.16427268e-01  3.97785402e-01  5.09783998e-01]\n",
      " [ 2.24329733e+00 -5.32605965e-01  1.64004552e+00  1.02883680e+00]\n",
      " [-1.56409460e-01 -4.95948874e-02  2.28386296e-01 -9.26879997e-03]\n",
      " [-1.23627752e+00  9.16427268e-01 -1.23973930e+00 -1.30690080e+00]\n",
      " [-1.56409460e-01 -1.25712258e+00  6.80117246e-01  1.02883680e+00]\n",
      " [ 5.63502576e-01 -7.74111504e-01  6.23650878e-01  7.69310398e-01]\n",
      " [-1.23627752e+00 -4.95948874e-02 -1.35267203e+00 -1.43666400e+00]\n",
      " [-1.35626285e+00  4.33416190e-01 -1.40913840e+00 -1.30690080e+00]\n",
      " [ 8.03473255e-01 -4.95948874e-02  1.13184820e+00  1.28836320e+00]\n",
      " [-1.47624819e+00  9.16427268e-01 -1.35267203e+00 -1.17713760e+00]\n",
      " [ 3.23531897e-01 -4.95948874e-02  6.23650878e-01  7.69310398e-01]\n",
      " [ 8.03473255e-01  4.33416190e-01  7.36583615e-01  1.02883680e+00]\n",
      " [ 1.04344393e+00  1.91910651e-01  3.41319033e-01  2.50257599e-01]\n",
      " [-1.56409460e-01 -5.32605965e-01  3.97785402e-01  1.20494400e-01]\n",
      " [ 1.04344393e+00  6.74921729e-01  1.07538183e+00  1.67765279e+00]\n",
      " [ 2.03546558e-01 -4.95948874e-02  5.67184509e-01  7.69310398e-01]\n",
      " [-8.76321497e-01  1.88244942e+00 -1.23973930e+00 -1.30690080e+00]\n",
      " [ 2.03546558e-01 -1.98163920e+00  1.15453558e-01 -2.68795199e-01]\n",
      " [ 6.83487916e-01 -2.91100426e-01  2.84852664e-01  1.20494400e-01]\n",
      " [ 8.03473255e-01 -4.95948874e-02  9.62449091e-01  7.69310398e-01]\n",
      " [-9.96306836e-01 -1.74013366e+00 -2.79811024e-01 -2.68795199e-01]\n",
      " [ 5.63502576e-01  6.74921729e-01  1.24478094e+00  1.67765279e+00]\n",
      " [-3.96380139e-01 -1.25712258e+00  1.15453558e-01  1.20494400e-01]\n",
      " [-5.16365479e-01  1.64094388e+00 -1.29620566e+00 -1.30690080e+00]\n",
      " [-1.11629218e+00  1.91910651e-01 -1.29620566e+00 -1.43666400e+00]\n",
      " [-7.56336157e-01  2.60696604e+00 -1.29620566e+00 -1.43666400e+00]\n",
      " [ 1.04344393e+00  6.74921729e-01  1.07538183e+00  1.15860000e+00]\n",
      " [-1.71621887e+00 -4.95948874e-02 -1.40913840e+00 -1.30690080e+00]\n",
      " [ 2.03546558e-01 -7.74111504e-01  7.36583615e-01  5.09783998e-01]\n",
      " [ 6.83487916e-01 -7.74111504e-01  8.49516353e-01  8.99073597e-01]\n",
      " [ 8.35612185e-02 -4.95948874e-02  7.36583615e-01  7.69310398e-01]\n",
      " [-7.56336157e-01  1.15793281e+00 -1.29620566e+00 -1.30690080e+00]\n",
      " [-8.76321497e-01  6.74921729e-01 -1.18327293e+00 -9.17611197e-01]\n",
      " [-3.64241209e-02 -7.74111504e-01  1.71919927e-01 -2.68795199e-01]\n",
      " [-1.11629218e+00  1.91910651e-01 -1.29620566e+00 -1.43666400e+00]\n",
      " [ 1.88334131e+00 -5.32605965e-01  1.30124730e+00  8.99073597e-01]\n",
      " [ 4.43517237e-01 -2.91100426e-01  2.84852664e-01  1.20494400e-01]\n",
      " [ 2.12331199e+00 -4.95948874e-02  1.58357915e+00  1.15860000e+00]\n",
      " [ 1.04344393e+00 -4.95948874e-02  7.93049984e-01  1.41812640e+00]\n",
      " [ 5.63502576e-01 -1.74013366e+00  3.41319033e-01  1.20494400e-01]\n",
      " [ 4.43517237e-01  9.16427268e-01  9.05982722e-01  1.41812640e+00]\n",
      " [ 1.64337063e+00  1.39943835e+00  1.30124730e+00  1.67765279e+00]\n",
      " [-2.76394800e-01 -2.91100426e-01 -1.10411918e-01  1.20494400e-01]\n",
      " [-1.56409460e-01  3.33148266e+00 -1.29620566e+00 -1.04737440e+00]\n",
      " [-3.64241209e-02 -7.74111504e-01  5.89871889e-02 -9.26879997e-03]\n",
      " [-1.59623353e+00 -1.74013366e+00 -1.40913840e+00 -1.17713760e+00]\n",
      " [-3.96380139e-01 -1.49862812e+00  2.52082004e-03 -1.39032000e-01]\n",
      " [ 1.28341461e+00  1.91910651e-01  6.23650878e-01  3.80020799e-01]\n",
      " [-9.96306836e-01  9.16427268e-01 -1.23973930e+00 -1.04737440e+00]\n",
      " [ 1.16342927e+00 -5.32605965e-01  5.67184509e-01  2.50257599e-01]\n",
      " [-9.96306836e-01  1.15793281e+00 -1.23973930e+00 -7.87847998e-01]\n",
      " [-1.23627752e+00  9.16427268e-01 -1.07034019e+00 -1.30690080e+00]\n",
      " [ 5.63502576e-01  9.16427268e-01  1.01891546e+00  1.54788960e+00]\n",
      " [-2.76394800e-01 -5.32605965e-01  6.23650878e-01  1.02883680e+00]\n",
      " [ 1.16342927e+00  4.33416190e-01  1.18831457e+00  1.41812640e+00]\n",
      " [-9.96306836e-01  6.74921729e-01 -1.35267203e+00 -1.30690080e+00]\n",
      " [-8.76321497e-01  1.64094388e+00 -1.29620566e+00 -1.04737440e+00]\n",
      " [ 8.35612185e-02  4.33416190e-01  5.67184509e-01  7.69310398e-01]\n",
      " [-1.47624819e+00  1.91910651e-01 -1.29620566e+00 -1.30690080e+00]\n",
      " [-3.64241209e-02 -7.74111504e-01  7.36583615e-01  8.99073597e-01]\n",
      " [-1.23627752e+00  1.91910651e-01 -1.23973930e+00 -1.30690080e+00]\n",
      " [ 8.03473255e-01 -4.95948874e-02  7.93049984e-01  1.02883680e+00]\n",
      " [-1.11629218e+00 -1.25712258e+00  3.97785402e-01  6.39547198e-01]\n",
      " [-1.47624819e+00  4.33416190e-01 -1.35267203e+00 -1.30690080e+00]\n",
      " [ 6.83487916e-01  4.33416190e-01  8.49516353e-01  1.41812640e+00]\n",
      " [-1.83620421e+00 -4.95948874e-02 -1.52207114e+00 -1.43666400e+00]\n",
      " [-2.76394800e-01 -4.95948874e-02  1.71919927e-01  1.20494400e-01]\n",
      " [-1.71621887e+00 -2.91100426e-01 -1.35267203e+00 -1.30690080e+00]\n",
      " [-3.96380139e-01 -1.49862812e+00 -5.39455488e-02 -2.68795199e-01]\n",
      " [-9.96306836e-01 -2.46465028e+00 -1.66878287e-01 -2.68795199e-01]\n",
      " [-8.76321497e-01  1.15793281e+00 -1.35267203e+00 -1.30690080e+00]\n",
      " [-1.11629218e+00 -4.95948874e-02 -1.35267203e+00 -1.30690080e+00]\n",
      " [-1.11629218e+00 -1.49862812e+00 -2.79811024e-01 -2.68795199e-01]\n",
      " [-1.47624819e+00  1.39943835e+00 -1.57853751e+00 -1.30690080e+00]\n",
      " [ 8.35612185e-02 -4.95948874e-02  2.28386296e-01  3.80020799e-01]\n",
      " [ 3.23531897e-01 -2.91100426e-01  5.10718140e-01  2.50257599e-01]\n",
      " [-9.96306836e-01  9.16427268e-01 -1.29620566e+00 -1.30690080e+00]\n",
      " [ 1.04344393e+00  1.91910651e-01  5.10718140e-01  3.80020799e-01]\n",
      " [-1.56409460e-01 -2.91100426e-01  2.28386296e-01  1.20494400e-01]\n",
      " [ 4.43517237e-01 -1.98163920e+00  3.97785402e-01  3.80020799e-01]\n",
      " [ 1.40339995e+00  4.33416190e-01  5.10718140e-01  2.50257599e-01]\n",
      " [-3.64241209e-02 -7.74111504e-01  7.36583615e-01  8.99073597e-01]\n",
      " [-5.16365479e-01  9.16427268e-01 -1.18327293e+00 -1.30690080e+00]\n",
      " [-9.96306836e-01 -4.95948874e-02 -1.23973930e+00 -1.30690080e+00]\n",
      " [ 3.23531897e-01 -1.01561704e+00  1.01891546e+00  2.50257599e-01]\n",
      " [ 3.23531897e-01 -5.32605965e-01  1.15453558e-01  1.20494400e-01]\n",
      " [ 1.64337063e+00 -4.95948874e-02  1.13184820e+00  5.09783998e-01]\n",
      " [-1.56409460e-01 -1.01561704e+00 -1.66878287e-01 -2.68795199e-01]\n",
      " [ 5.63502576e-01 -5.32605965e-01  7.36583615e-01  3.80020799e-01]\n",
      " [ 6.83487916e-01  1.91910651e-01  9.62449091e-01  7.69310398e-01]\n",
      " [ 5.63502576e-01 -1.25712258e+00  6.23650878e-01  3.80020799e-01]\n",
      " [ 1.04344393e+00  1.91910651e-01  1.01891546e+00  1.54788960e+00]\n",
      " [-1.11629218e+00  1.91910651e-01 -1.29620566e+00 -1.43666400e+00]]\n"
     ]
    }
   ],
   "source": [
    "print(x_train)"
   ]
  },
  {
   "cell_type": "markdown",
   "id": "502a1dbd",
   "metadata": {},
   "source": [
    "#importing the GaussianNB perform it on categorical data using naive_bayes"
   ]
  },
  {
   "cell_type": "code",
   "execution_count": 95,
   "id": "6f109da2",
   "metadata": {},
   "outputs": [],
   "source": [
    "from sklearn.naive_bayes import GaussianNB"
   ]
  },
  {
   "cell_type": "code",
   "execution_count": 96,
   "id": "5c14c843",
   "metadata": {},
   "outputs": [],
   "source": [
    "model=GaussianNB()"
   ]
  },
  {
   "cell_type": "code",
   "execution_count": 97,
   "id": "6561f109",
   "metadata": {},
   "outputs": [],
   "source": [
    "model.fit(x_train,y_train)\n",
    "y_pred=model.predict(x_test)"
   ]
  },
  {
   "cell_type": "code",
   "execution_count": 98,
   "id": "6307f80e",
   "metadata": {},
   "outputs": [
    {
     "name": "stdout",
     "output_type": "stream",
     "text": [
      "['Iris-setosa' 'Iris-versicolor' 'Iris-versicolor' 'Iris-setosa'\n",
      " 'Iris-virginica' 'Iris-virginica' 'Iris-virginica' 'Iris-setosa'\n",
      " 'Iris-setosa' 'Iris-virginica' 'Iris-versicolor' 'Iris-setosa'\n",
      " 'Iris-virginica' 'Iris-versicolor' 'Iris-versicolor' 'Iris-setosa'\n",
      " 'Iris-versicolor' 'Iris-versicolor' 'Iris-setosa' 'Iris-setosa'\n",
      " 'Iris-versicolor' 'Iris-versicolor' 'Iris-virginica' 'Iris-setosa'\n",
      " 'Iris-virginica' 'Iris-versicolor' 'Iris-setosa' 'Iris-setosa'\n",
      " 'Iris-versicolor' 'Iris-virginica' 'Iris-versicolor' 'Iris-virginica'\n",
      " 'Iris-versicolor' 'Iris-virginica' 'Iris-virginica' 'Iris-setosa'\n",
      " 'Iris-versicolor' 'Iris-setosa']\n"
     ]
    }
   ],
   "source": [
    "print(y_pred)"
   ]
  },
  {
   "cell_type": "markdown",
   "id": "1138c54e",
   "metadata": {},
   "source": [
    "#calculate accuracy_score,precision_score,recall_score,confusion_matrix"
   ]
  },
  {
   "cell_type": "code",
   "execution_count": 99,
   "id": "a8474729",
   "metadata": {},
   "outputs": [],
   "source": [
    "from sklearn.metrics import accuracy_score,precision_score,recall_score,confusion_matrix"
   ]
  },
  {
   "cell_type": "code",
   "execution_count": 100,
   "id": "cbc41704",
   "metadata": {},
   "outputs": [],
   "source": [
    "a_score = accuracy_score(y_test,y_pred)"
   ]
  },
  {
   "cell_type": "code",
   "execution_count": 101,
   "id": "6daea212",
   "metadata": {},
   "outputs": [
    {
     "name": "stdout",
     "output_type": "stream",
     "text": [
      "0.9473684210526315\n"
     ]
    }
   ],
   "source": [
    "print(a_score)"
   ]
  },
  {
   "cell_type": "code",
   "execution_count": 102,
   "id": "f5308d97",
   "metadata": {},
   "outputs": [],
   "source": [
    "p_score = precision_score(y_test,y_pred,average='micro')"
   ]
  },
  {
   "cell_type": "code",
   "execution_count": 103,
   "id": "27c1ae5f",
   "metadata": {},
   "outputs": [
    {
     "name": "stdout",
     "output_type": "stream",
     "text": [
      "0.9473684210526315\n"
     ]
    }
   ],
   "source": [
    "print(p_score)"
   ]
  },
  {
   "cell_type": "code",
   "execution_count": 104,
   "id": "3393feab",
   "metadata": {},
   "outputs": [],
   "source": [
    "r_score = recall_score(y_test,y_pred,average='micro')"
   ]
  },
  {
   "cell_type": "code",
   "execution_count": 105,
   "id": "cb98ba56",
   "metadata": {},
   "outputs": [
    {
     "name": "stdout",
     "output_type": "stream",
     "text": [
      "0.9473684210526315\n"
     ]
    }
   ],
   "source": [
    "print(r_score)"
   ]
  },
  {
   "cell_type": "code",
   "execution_count": 106,
   "id": "590f6a90",
   "metadata": {},
   "outputs": [
    {
     "name": "stdout",
     "output_type": "stream",
     "text": [
      "[[13  0  0]\n",
      " [ 0 14  2]\n",
      " [ 0  0  9]]\n"
     ]
    }
   ],
   "source": [
    "cm=confusion_matrix(y_test,y_pred)\n",
    "print(cm)"
   ]
  },
  {
   "cell_type": "markdown",
   "id": "beb37fd3",
   "metadata": {},
   "source": [
    "#to check input test"
   ]
  },
  {
   "cell_type": "code",
   "execution_count": 107,
   "id": "315777ff",
   "metadata": {},
   "outputs": [],
   "source": [
    "x_new=[[5.1,3.5,1.3,0.2]]"
   ]
  },
  {
   "cell_type": "code",
   "execution_count": 108,
   "id": "96822de3",
   "metadata": {},
   "outputs": [],
   "source": [
    "x_new=std.fit_transform(x_new)"
   ]
  },
  {
   "cell_type": "code",
   "execution_count": 109,
   "id": "e66a931f",
   "metadata": {},
   "outputs": [],
   "source": [
    "y_new=model.predict(x_new)"
   ]
  },
  {
   "cell_type": "code",
   "execution_count": 110,
   "id": "97c9521c",
   "metadata": {},
   "outputs": [
    {
     "name": "stdout",
     "output_type": "stream",
     "text": [
      "['Iris-versicolor']\n"
     ]
    }
   ],
   "source": [
    "print(y_new)"
   ]
  },
  {
   "cell_type": "code",
   "execution_count": null,
   "id": "f99a9162",
   "metadata": {},
   "outputs": [],
   "source": []
  }
 ],
 "metadata": {
  "kernelspec": {
   "display_name": "Python 3 (ipykernel)",
   "language": "python",
   "name": "python3"
  },
  "language_info": {
   "codemirror_mode": {
    "name": "ipython",
    "version": 3
   },
   "file_extension": ".py",
   "mimetype": "text/x-python",
   "name": "python",
   "nbconvert_exporter": "python",
   "pygments_lexer": "ipython3",
   "version": "3.10.12"
  }
 },
 "nbformat": 4,
 "nbformat_minor": 5
}
