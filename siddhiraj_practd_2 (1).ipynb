{
 "cells": [
  {
   "cell_type": "code",
   "execution_count": null,
   "id": "c3b75bfc-ddde-46e3-8216-b3245265ef42",
   "metadata": {},
   "outputs": [],
   "source": [
    "#IMPORT PANDAS LIBRARY"
   ]
  },
  {
   "cell_type": "code",
   "execution_count": 1,
   "id": "8033ccc8-3fd8-4ee4-a547-7e3ad8e58983",
   "metadata": {},
   "outputs": [],
   "source": [
    "import pandas as pd "
   ]
  },
  {
   "cell_type": "code",
   "execution_count": 2,
   "id": "b188625b-31ed-4de5-9609-5f70e7be5c98",
   "metadata": {},
   "outputs": [
    {
     "data": {
      "text/html": [
       "<div>\n",
       "<style scoped>\n",
       "    .dataframe tbody tr th:only-of-type {\n",
       "        vertical-align: middle;\n",
       "    }\n",
       "\n",
       "    .dataframe tbody tr th {\n",
       "        vertical-align: top;\n",
       "    }\n",
       "\n",
       "    .dataframe thead th {\n",
       "        text-align: right;\n",
       "    }\n",
       "</style>\n",
       "<table border=\"1\" class=\"dataframe\">\n",
       "  <thead>\n",
       "    <tr style=\"text-align: right;\">\n",
       "      <th></th>\n",
       "      <th>Age</th>\n",
       "      <th>Income</th>\n",
       "    </tr>\n",
       "  </thead>\n",
       "  <tbody>\n",
       "    <tr>\n",
       "      <th>0</th>\n",
       "      <td>Young</td>\n",
       "      <td>25000</td>\n",
       "    </tr>\n",
       "    <tr>\n",
       "      <th>1</th>\n",
       "      <td>Middle Age</td>\n",
       "      <td>54000</td>\n",
       "    </tr>\n",
       "    <tr>\n",
       "      <th>2</th>\n",
       "      <td>Old</td>\n",
       "      <td>60000</td>\n",
       "    </tr>\n",
       "    <tr>\n",
       "      <th>3</th>\n",
       "      <td>Young</td>\n",
       "      <td>15000</td>\n",
       "    </tr>\n",
       "    <tr>\n",
       "      <th>4</th>\n",
       "      <td>Young</td>\n",
       "      <td>45000</td>\n",
       "    </tr>\n",
       "    <tr>\n",
       "      <th>5</th>\n",
       "      <td>Young</td>\n",
       "      <td>65000</td>\n",
       "    </tr>\n",
       "    <tr>\n",
       "      <th>6</th>\n",
       "      <td>Young</td>\n",
       "      <td>70000</td>\n",
       "    </tr>\n",
       "    <tr>\n",
       "      <th>7</th>\n",
       "      <td>Young</td>\n",
       "      <td>30000</td>\n",
       "    </tr>\n",
       "    <tr>\n",
       "      <th>8</th>\n",
       "      <td>Middle Age</td>\n",
       "      <td>27000</td>\n",
       "    </tr>\n",
       "    <tr>\n",
       "      <th>9</th>\n",
       "      <td>Young</td>\n",
       "      <td>23000</td>\n",
       "    </tr>\n",
       "    <tr>\n",
       "      <th>10</th>\n",
       "      <td>Young</td>\n",
       "      <td>48000</td>\n",
       "    </tr>\n",
       "    <tr>\n",
       "      <th>11</th>\n",
       "      <td>Old</td>\n",
       "      <td>52000</td>\n",
       "    </tr>\n",
       "    <tr>\n",
       "      <th>12</th>\n",
       "      <td>Young</td>\n",
       "      <td>33000</td>\n",
       "    </tr>\n",
       "    <tr>\n",
       "      <th>13</th>\n",
       "      <td>Old</td>\n",
       "      <td>80000</td>\n",
       "    </tr>\n",
       "    <tr>\n",
       "      <th>14</th>\n",
       "      <td>Old</td>\n",
       "      <td>75000</td>\n",
       "    </tr>\n",
       "    <tr>\n",
       "      <th>15</th>\n",
       "      <td>Old</td>\n",
       "      <td>35000</td>\n",
       "    </tr>\n",
       "    <tr>\n",
       "      <th>16</th>\n",
       "      <td>Middle Age</td>\n",
       "      <td>29000</td>\n",
       "    </tr>\n",
       "    <tr>\n",
       "      <th>17</th>\n",
       "      <td>Middle Age</td>\n",
       "      <td>57000</td>\n",
       "    </tr>\n",
       "    <tr>\n",
       "      <th>18</th>\n",
       "      <td>Old</td>\n",
       "      <td>43000</td>\n",
       "    </tr>\n",
       "    <tr>\n",
       "      <th>19</th>\n",
       "      <td>Middle Age</td>\n",
       "      <td>56000</td>\n",
       "    </tr>\n",
       "    <tr>\n",
       "      <th>20</th>\n",
       "      <td>Old</td>\n",
       "      <td>63000</td>\n",
       "    </tr>\n",
       "    <tr>\n",
       "      <th>21</th>\n",
       "      <td>Old</td>\n",
       "      <td>32000</td>\n",
       "    </tr>\n",
       "    <tr>\n",
       "      <th>22</th>\n",
       "      <td>Old</td>\n",
       "      <td>45000</td>\n",
       "    </tr>\n",
       "    <tr>\n",
       "      <th>23</th>\n",
       "      <td>Old</td>\n",
       "      <td>89000</td>\n",
       "    </tr>\n",
       "    <tr>\n",
       "      <th>24</th>\n",
       "      <td>Middle Age</td>\n",
       "      <td>90000</td>\n",
       "    </tr>\n",
       "    <tr>\n",
       "      <th>25</th>\n",
       "      <td>Middle Age</td>\n",
       "      <td>93000</td>\n",
       "    </tr>\n",
       "    <tr>\n",
       "      <th>26</th>\n",
       "      <td>Young</td>\n",
       "      <td>80000</td>\n",
       "    </tr>\n",
       "    <tr>\n",
       "      <th>27</th>\n",
       "      <td>Young</td>\n",
       "      <td>87000</td>\n",
       "    </tr>\n",
       "    <tr>\n",
       "      <th>28</th>\n",
       "      <td>Young</td>\n",
       "      <td>38000</td>\n",
       "    </tr>\n",
       "    <tr>\n",
       "      <th>29</th>\n",
       "      <td>Young</td>\n",
       "      <td>23000</td>\n",
       "    </tr>\n",
       "    <tr>\n",
       "      <th>30</th>\n",
       "      <td>Middle Age</td>\n",
       "      <td>38900</td>\n",
       "    </tr>\n",
       "    <tr>\n",
       "      <th>31</th>\n",
       "      <td>Middle Age</td>\n",
       "      <td>53200</td>\n",
       "    </tr>\n",
       "    <tr>\n",
       "      <th>32</th>\n",
       "      <td>Old</td>\n",
       "      <td>43800</td>\n",
       "    </tr>\n",
       "    <tr>\n",
       "      <th>33</th>\n",
       "      <td>Middle Age</td>\n",
       "      <td>25600</td>\n",
       "    </tr>\n",
       "    <tr>\n",
       "      <th>34</th>\n",
       "      <td>Middle Age</td>\n",
       "      <td>65400</td>\n",
       "    </tr>\n",
       "    <tr>\n",
       "      <th>35</th>\n",
       "      <td>Old</td>\n",
       "      <td>76800</td>\n",
       "    </tr>\n",
       "    <tr>\n",
       "      <th>36</th>\n",
       "      <td>Old</td>\n",
       "      <td>89700</td>\n",
       "    </tr>\n",
       "    <tr>\n",
       "      <th>37</th>\n",
       "      <td>Old</td>\n",
       "      <td>41800</td>\n",
       "    </tr>\n",
       "    <tr>\n",
       "      <th>38</th>\n",
       "      <td>Young</td>\n",
       "      <td>31900</td>\n",
       "    </tr>\n",
       "    <tr>\n",
       "      <th>39</th>\n",
       "      <td>Old</td>\n",
       "      <td>25600</td>\n",
       "    </tr>\n",
       "    <tr>\n",
       "      <th>40</th>\n",
       "      <td>Middle Age</td>\n",
       "      <td>45700</td>\n",
       "    </tr>\n",
       "    <tr>\n",
       "      <th>41</th>\n",
       "      <td>Old</td>\n",
       "      <td>35600</td>\n",
       "    </tr>\n",
       "    <tr>\n",
       "      <th>42</th>\n",
       "      <td>Young</td>\n",
       "      <td>54300</td>\n",
       "    </tr>\n",
       "    <tr>\n",
       "      <th>43</th>\n",
       "      <td>Middle Age</td>\n",
       "      <td>65400</td>\n",
       "    </tr>\n",
       "    <tr>\n",
       "      <th>44</th>\n",
       "      <td>Old</td>\n",
       "      <td>67800</td>\n",
       "    </tr>\n",
       "    <tr>\n",
       "      <th>45</th>\n",
       "      <td>Old</td>\n",
       "      <td>24500</td>\n",
       "    </tr>\n",
       "    <tr>\n",
       "      <th>46</th>\n",
       "      <td>Middle Age</td>\n",
       "      <td>34900</td>\n",
       "    </tr>\n",
       "    <tr>\n",
       "      <th>47</th>\n",
       "      <td>Old</td>\n",
       "      <td>45300</td>\n",
       "    </tr>\n",
       "    <tr>\n",
       "      <th>48</th>\n",
       "      <td>Young</td>\n",
       "      <td>68400</td>\n",
       "    </tr>\n",
       "    <tr>\n",
       "      <th>49</th>\n",
       "      <td>Middle Age</td>\n",
       "      <td>51700</td>\n",
       "    </tr>\n",
       "  </tbody>\n",
       "</table>\n",
       "</div>"
      ],
      "text/plain": [
       "           Age  Income\n",
       "0        Young   25000\n",
       "1   Middle Age   54000\n",
       "2          Old   60000\n",
       "3        Young   15000\n",
       "4        Young   45000\n",
       "5        Young   65000\n",
       "6        Young   70000\n",
       "7        Young   30000\n",
       "8   Middle Age   27000\n",
       "9        Young   23000\n",
       "10       Young   48000\n",
       "11         Old   52000\n",
       "12       Young   33000\n",
       "13         Old   80000\n",
       "14         Old   75000\n",
       "15         Old   35000\n",
       "16  Middle Age   29000\n",
       "17  Middle Age   57000\n",
       "18         Old   43000\n",
       "19  Middle Age   56000\n",
       "20         Old   63000\n",
       "21         Old   32000\n",
       "22         Old   45000\n",
       "23         Old   89000\n",
       "24  Middle Age   90000\n",
       "25  Middle Age   93000\n",
       "26       Young   80000\n",
       "27       Young   87000\n",
       "28       Young   38000\n",
       "29       Young   23000\n",
       "30  Middle Age   38900\n",
       "31  Middle Age   53200\n",
       "32         Old   43800\n",
       "33  Middle Age   25600\n",
       "34  Middle Age   65400\n",
       "35         Old   76800\n",
       "36         Old   89700\n",
       "37         Old   41800\n",
       "38       Young   31900\n",
       "39         Old   25600\n",
       "40  Middle Age   45700\n",
       "41         Old   35600\n",
       "42       Young   54300\n",
       "43  Middle Age   65400\n",
       "44         Old   67800\n",
       "45         Old   24500\n",
       "46  Middle Age   34900\n",
       "47         Old   45300\n",
       "48       Young   68400\n",
       "49  Middle Age   51700"
      ]
     },
     "execution_count": 2,
     "metadata": {},
     "output_type": "execute_result"
    }
   ],
   "source": [
    "df = pd.read_csv('Age-Income-Dataset.csv')\n",
    "df"
   ]
  },
  {
   "cell_type": "code",
   "execution_count": null,
   "id": "3e823837-56e3-4069-8d02-f3b89bf66be3",
   "metadata": {},
   "outputs": [],
   "source": [
    "#CALCULATE MEAN WITHOUT USING LABRARY"
   ]
  },
  {
   "cell_type": "code",
   "execution_count": 3,
   "id": "7209df3c-8041-4514-873e-094e4cb4c707",
   "metadata": {},
   "outputs": [],
   "source": [
    "def calculate_mean(numbers):\n",
    "    total = sum(numbers)  \n",
    "    count = len(numbers)  \n",
    "    mean = total / count  \n",
    "    return mean"
   ]
  },
  {
   "cell_type": "code",
   "execution_count": 4,
   "id": "b05eabd8-dc1b-49f9-9f6d-06f0ca2cc82c",
   "metadata": {},
   "outputs": [
    {
     "data": {
      "text/plain": [
       "50966.0"
      ]
     },
     "execution_count": 4,
     "metadata": {},
     "output_type": "execute_result"
    }
   ],
   "source": [
    "calculate_mean(df['Income'])"
   ]
  },
  {
   "cell_type": "code",
   "execution_count": null,
   "id": "23c511b9-403f-45b0-9c6f-d4b017233e4e",
   "metadata": {},
   "outputs": [],
   "source": [
    "#CALCULATE MEAN WITH THE HELP OF PANDAS LIBRARY"
   ]
  },
  {
   "cell_type": "code",
   "execution_count": 22,
   "id": "9a8742be-824e-4d75-b6ff-3055f9aee3d0",
   "metadata": {},
   "outputs": [],
   "source": [
    "Income_df = pd.Series(df['Income'])"
   ]
  },
  {
   "cell_type": "code",
   "execution_count": 23,
   "id": "e834f863-2148-4a95-9b93-c2f355afa94a",
   "metadata": {},
   "outputs": [
    {
     "name": "stdout",
     "output_type": "stream",
     "text": [
      "50966.0\n"
     ]
    }
   ],
   "source": [
    "mean_income = Income_df.mean()\n",
    "print(mean_income)"
   ]
  },
  {
   "cell_type": "code",
   "execution_count": null,
   "id": "90a2403c-715a-4e31-9ae6-adb31e4e65d3",
   "metadata": {},
   "outputs": [],
   "source": [
    "#CALCULATE MEDIAN WITHOUT USING LABRARY"
   ]
  },
  {
   "cell_type": "code",
   "execution_count": 36,
   "id": "82d04656-bb23-4b66-92ec-7cd6b224d382",
   "metadata": {},
   "outputs": [],
   "source": [
    "def fun_median(n_num):\n",
    "    new_num = sorted(n_num)  \n",
    "    n = len(new_num)\n",
    "    if n % 2 == 0:\n",
    "        median1 = new_num[n // 2]\n",
    "        median2 = new_num[n // 2 - 1]\n",
    "        median = (median1 + median2) / 2\n",
    "    else:\n",
    "        median = new_num[n // 2]\n",
    "\n",
    "    return median  "
   ]
  },
  {
   "cell_type": "code",
   "execution_count": 37,
   "id": "e2e8016a-effe-427c-adc3-34f032db8636",
   "metadata": {},
   "outputs": [
    {
     "data": {
      "text/plain": [
       "46850.0"
      ]
     },
     "execution_count": 37,
     "metadata": {},
     "output_type": "execute_result"
    }
   ],
   "source": [
    "fun_median(df['Income'])"
   ]
  },
  {
   "cell_type": "code",
   "execution_count": null,
   "id": "bca788c1-66c4-4867-b70f-2ccfc7755da2",
   "metadata": {},
   "outputs": [],
   "source": [
    "#CALCULATE MEDIAN WITH THE HELP OF STATISTIC LIBRARY"
   ]
  },
  {
   "cell_type": "code",
   "execution_count": 26,
   "id": "ec3ea4cb-025f-4d9b-8f74-03097a049fd0",
   "metadata": {},
   "outputs": [],
   "source": [
    "import statistics"
   ]
  },
  {
   "cell_type": "code",
   "execution_count": 27,
   "id": "cb43aa71-d5e8-487f-a51b-adb3cb0bbec6",
   "metadata": {},
   "outputs": [
    {
     "name": "stdout",
     "output_type": "stream",
     "text": [
      "46850.0\n"
     ]
    }
   ],
   "source": [
    "income_median = statistics.median(df['Income'])\n",
    "print(income_median)"
   ]
  },
  {
   "cell_type": "code",
   "execution_count": null,
   "id": "31770b9a-2243-492f-9149-b759a1d95f14",
   "metadata": {},
   "outputs": [],
   "source": [
    "#CALCULATE MODE WITHOUT USING LABRARY"
   ]
  },
  {
   "cell_type": "code",
   "execution_count": 7,
   "id": "0bd418ed-0d2f-4c6e-a675-5e42485bce5e",
   "metadata": {},
   "outputs": [],
   "source": [
    "def find_mode(income_arr):\n",
    "    counts = {}\n",
    "    for num in income_arr:\n",
    "        if num in counts:\n",
    "            counts[num] += 1\n",
    "        else:\n",
    "            counts[num] = 1\n",
    "    \n",
    "    mode = None\n",
    "    max_count = 0\n",
    "    for num, count in counts.items():\n",
    "        if count > max_count:\n",
    "            max_count = count\n",
    "            mode = num\n",
    "    \n",
    "    return mode"
   ]
  },
  {
   "cell_type": "code",
   "execution_count": 8,
   "id": "1fbcc757-268f-4268-810c-1665727dfbdf",
   "metadata": {},
   "outputs": [
    {
     "data": {
      "text/plain": [
       "45000"
      ]
     },
     "execution_count": 8,
     "metadata": {},
     "output_type": "execute_result"
    }
   ],
   "source": [
    "find_mode(df['Income'])"
   ]
  },
  {
   "cell_type": "code",
   "execution_count": null,
   "id": "a9adb60a-ff22-44cf-aafc-3734297991f5",
   "metadata": {},
   "outputs": [],
   "source": [
    "#CALCULATE MODE WITH THE HELP OF STATISTIC LIBRARY"
   ]
  },
  {
   "cell_type": "code",
   "execution_count": 39,
   "id": "cd85c9bc-65b4-4c7d-98a5-736c8b004d53",
   "metadata": {},
   "outputs": [
    {
     "name": "stdout",
     "output_type": "stream",
     "text": [
      "45000\n"
     ]
    }
   ],
   "source": [
    "income_mode = statistics.mode(df['Income'])\n",
    "print(income_mode)"
   ]
  },
  {
   "cell_type": "code",
   "execution_count": null,
   "id": "c63251be-d88d-4a9e-920b-e58fa43725f2",
   "metadata": {},
   "outputs": [],
   "source": [
    "#CALCULATE MIN MAX WITHOUT USING LABRARY"
   ]
  },
  {
   "cell_type": "code",
   "execution_count": 9,
   "id": "cadcf356-196d-43a0-a88d-586d60b4e640",
   "metadata": {},
   "outputs": [],
   "source": [
    "def find_min_max(arr):\n",
    "    \n",
    "    if len(arr) == 0:\n",
    "        return None, None  \n",
    "    min_element = arr[0]\n",
    "    max_element = arr[0]   \n",
    "    for num in arr:\n",
    "        if num < min_element:\n",
    "            min_element = num\n",
    "        if num > max_element:\n",
    "            max_element = num\n",
    "            \n",
    "    return min_element, max_element"
   ]
  },
  {
   "cell_type": "code",
   "execution_count": 10,
   "id": "8d8f51dd-0d40-4a19-b9d4-37514903315e",
   "metadata": {},
   "outputs": [
    {
     "data": {
      "text/plain": [
       "(15000, 93000)"
      ]
     },
     "execution_count": 10,
     "metadata": {},
     "output_type": "execute_result"
    }
   ],
   "source": [
    "find_min_max(df['Income'])"
   ]
  },
  {
   "cell_type": "code",
   "execution_count": null,
   "id": "b5624a34-3708-45f2-abb2-6a1976a72709",
   "metadata": {},
   "outputs": [],
   "source": [
    "#CALCULATE MIN MAX WITH USING LABRARY"
   ]
  },
  {
   "cell_type": "code",
   "execution_count": 41,
   "id": "cfab3861-88e2-4cf7-bf3a-f2a9e741dd20",
   "metadata": {},
   "outputs": [
    {
     "name": "stdout",
     "output_type": "stream",
     "text": [
      "15000\n"
     ]
    }
   ],
   "source": [
    "min_income = min(df['Income'])\n",
    "print(min_income)"
   ]
  },
  {
   "cell_type": "code",
   "execution_count": 43,
   "id": "7138ccbc-f303-4a58-a272-4f4e49d686e6",
   "metadata": {},
   "outputs": [
    {
     "name": "stdout",
     "output_type": "stream",
     "text": [
      "93000\n"
     ]
    }
   ],
   "source": [
    "max_income = max(df['Income'])\n",
    "print(max_income)"
   ]
  },
  {
   "cell_type": "code",
   "execution_count": null,
   "id": "8c5d41d1-ba30-49ec-bbd0-d8b1d97f446e",
   "metadata": {},
   "outputs": [],
   "source": [
    "#CALCULATE STANDARD DEVIATION WITHOUT USING LABRARY"
   ]
  },
  {
   "cell_type": "code",
   "execution_count": 45,
   "id": "44ba4e32-3b0e-45d4-a093-231fc3023550",
   "metadata": {},
   "outputs": [],
   "source": [
    "def standard_deviation(data):\n",
    "    n = len(data)\n",
    "    mean = sum(data) / n\n",
    "    squared_diff = [(x - mean) ** 2 for x in data] \n",
    "    variance = sum(squared_diff) / n  \n",
    "    std_dev = variance ** 0.5\n",
    "    return std_dev\n"
   ]
  },
  {
   "cell_type": "code",
   "execution_count": 46,
   "id": "dc156396-dd0d-4863-90ea-9ce8a6cacd07",
   "metadata": {},
   "outputs": [
    {
     "data": {
      "text/plain": [
       "20884.6509187968"
      ]
     },
     "execution_count": 46,
     "metadata": {},
     "output_type": "execute_result"
    }
   ],
   "source": [
    "standard_deviation(df['Income'])"
   ]
  },
  {
   "cell_type": "code",
   "execution_count": 47,
   "id": "b5489440-786b-45f2-b941-cca695f7376d",
   "metadata": {},
   "outputs": [],
   "source": [
    "#CALCULATE STANDARD DEVIATION WITH USING LABRARY"
   ]
  },
  {
   "cell_type": "code",
   "execution_count": 48,
   "id": "3610a9f5-4179-4b9d-93c0-9b16b4ad519d",
   "metadata": {},
   "outputs": [
    {
     "data": {
      "text/plain": [
       "21096.683267707253"
      ]
     },
     "execution_count": 48,
     "metadata": {},
     "output_type": "execute_result"
    }
   ],
   "source": [
    "statistics.stdev(df['Income'])"
   ]
  },
  {
   "cell_type": "code",
   "execution_count": null,
   "id": "c38bf4a1-c893-4a78-b56f-00aa07074091",
   "metadata": {},
   "outputs": [],
   "source": [
    "#PROVIDE SUMMARY STATISTICS OF INCOME GROUP BY THEIR AGE."
   ]
  },
  {
   "cell_type": "code",
   "execution_count": 13,
   "id": "c6fbc548-e037-46cf-892b-aaad11620594",
   "metadata": {},
   "outputs": [],
   "source": [
    "summary_stats = df.groupby('Age')['Income'].describe()\n"
   ]
  },
  {
   "cell_type": "code",
   "execution_count": 33,
   "id": "51a66a69-2163-4ba2-9421-650d8c1b91ea",
   "metadata": {
    "scrolled": true
   },
   "outputs": [
    {
     "data": {
      "text/html": [
       "<div>\n",
       "<style scoped>\n",
       "    .dataframe tbody tr th:only-of-type {\n",
       "        vertical-align: middle;\n",
       "    }\n",
       "\n",
       "    .dataframe tbody tr th {\n",
       "        vertical-align: top;\n",
       "    }\n",
       "\n",
       "    .dataframe thead th {\n",
       "        text-align: right;\n",
       "    }\n",
       "</style>\n",
       "<table border=\"1\" class=\"dataframe\">\n",
       "  <thead>\n",
       "    <tr style=\"text-align: right;\">\n",
       "      <th></th>\n",
       "      <th>count</th>\n",
       "      <th>mean</th>\n",
       "      <th>std</th>\n",
       "      <th>min</th>\n",
       "      <th>25%</th>\n",
       "      <th>50%</th>\n",
       "      <th>75%</th>\n",
       "      <th>max</th>\n",
       "    </tr>\n",
       "    <tr>\n",
       "      <th>Age</th>\n",
       "      <th></th>\n",
       "      <th></th>\n",
       "      <th></th>\n",
       "      <th></th>\n",
       "      <th></th>\n",
       "      <th></th>\n",
       "      <th></th>\n",
       "      <th></th>\n",
       "    </tr>\n",
       "  </thead>\n",
       "  <tbody>\n",
       "    <tr>\n",
       "      <th>Middle Age</th>\n",
       "      <td>15.0</td>\n",
       "      <td>52453.333333</td>\n",
       "      <td>20497.800114</td>\n",
       "      <td>25600.0</td>\n",
       "      <td>36900.0</td>\n",
       "      <td>53200.0</td>\n",
       "      <td>61200.0</td>\n",
       "      <td>93000.0</td>\n",
       "    </tr>\n",
       "    <tr>\n",
       "      <th>Old</th>\n",
       "      <td>19.0</td>\n",
       "      <td>53942.105263</td>\n",
       "      <td>20868.165968</td>\n",
       "      <td>24500.0</td>\n",
       "      <td>38700.0</td>\n",
       "      <td>45300.0</td>\n",
       "      <td>71400.0</td>\n",
       "      <td>89700.0</td>\n",
       "    </tr>\n",
       "    <tr>\n",
       "      <th>Young</th>\n",
       "      <td>16.0</td>\n",
       "      <td>46037.500000</td>\n",
       "      <td>22356.859499</td>\n",
       "      <td>15000.0</td>\n",
       "      <td>28750.0</td>\n",
       "      <td>41500.0</td>\n",
       "      <td>65850.0</td>\n",
       "      <td>87000.0</td>\n",
       "    </tr>\n",
       "  </tbody>\n",
       "</table>\n",
       "</div>"
      ],
      "text/plain": [
       "            count          mean           std      min      25%      50%  \\\n",
       "Age                                                                        \n",
       "Middle Age   15.0  52453.333333  20497.800114  25600.0  36900.0  53200.0   \n",
       "Old          19.0  53942.105263  20868.165968  24500.0  38700.0  45300.0   \n",
       "Young        16.0  46037.500000  22356.859499  15000.0  28750.0  41500.0   \n",
       "\n",
       "                75%      max  \n",
       "Age                           \n",
       "Middle Age  61200.0  93000.0  \n",
       "Old         71400.0  89700.0  \n",
       "Young       65850.0  87000.0  "
      ]
     },
     "execution_count": 33,
     "metadata": {},
     "output_type": "execute_result"
    }
   ],
   "source": [
    "summary_stats"
   ]
  },
  {
   "cell_type": "code",
   "execution_count": null,
   "id": "745db922-cebc-4eaa-bc54-5e5da6cc5647",
   "metadata": {},
   "outputs": [],
   "source": [
    "#CREATE A LIST THAT CONTAIN NUMERIC VALUE FOR EACH RESPONSE TO THE CATEGORICAL VALUE\n"
   ]
  },
  {
   "cell_type": "code",
   "execution_count": 16,
   "id": "153911be-602b-4dad-9a16-995b8f461384",
   "metadata": {},
   "outputs": [],
   "source": [
    "def categorical_variable(categories):\n",
    "    unique_categories = list(set(categories))\n",
    "    encoded_values = [unique_categories.index(category) for category in categories]\n",
    "    return encoded_values"
   ]
  },
  {
   "cell_type": "code",
   "execution_count": 18,
   "id": "4ebcfa28-6cde-43d4-be6d-92ca699b3d05",
   "metadata": {},
   "outputs": [
    {
     "data": {
      "text/plain": [
       "[0,\n",
       " 2,\n",
       " 1,\n",
       " 0,\n",
       " 0,\n",
       " 0,\n",
       " 0,\n",
       " 0,\n",
       " 2,\n",
       " 0,\n",
       " 0,\n",
       " 1,\n",
       " 0,\n",
       " 1,\n",
       " 1,\n",
       " 1,\n",
       " 2,\n",
       " 2,\n",
       " 1,\n",
       " 2,\n",
       " 1,\n",
       " 1,\n",
       " 1,\n",
       " 1,\n",
       " 2,\n",
       " 2,\n",
       " 0,\n",
       " 0,\n",
       " 0,\n",
       " 0,\n",
       " 2,\n",
       " 2,\n",
       " 1,\n",
       " 2,\n",
       " 2,\n",
       " 1,\n",
       " 1,\n",
       " 1,\n",
       " 0,\n",
       " 1,\n",
       " 2,\n",
       " 1,\n",
       " 0,\n",
       " 2,\n",
       " 1,\n",
       " 1,\n",
       " 2,\n",
       " 1,\n",
       " 0,\n",
       " 2]"
      ]
     },
     "execution_count": 18,
     "metadata": {},
     "output_type": "execute_result"
    }
   ],
   "source": [
    "categorical_variable(df['Age'])"
   ]
  }
 ],
 "metadata": {
  "kernelspec": {
   "display_name": "Python 3 (ipykernel)",
   "language": "python",
   "name": "python3"
  },
  "language_info": {
   "codemirror_mode": {
    "name": "ipython",
    "version": 3
   },
   "file_extension": ".py",
   "mimetype": "text/x-python",
   "name": "python",
   "nbconvert_exporter": "python",
   "pygments_lexer": "ipython3",
   "version": "3.12.4"
  }
 },
 "nbformat": 4,
 "nbformat_minor": 5
}
