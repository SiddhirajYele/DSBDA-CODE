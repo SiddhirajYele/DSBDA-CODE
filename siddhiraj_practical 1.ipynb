{
 "cells": [
  {
   "cell_type": "code",
   "execution_count": 3,
   "id": "bf6dcc15-9096-43e9-898e-3331951aedc6",
   "metadata": {},
   "outputs": [],
   "source": [
    "##importing pandas\n",
    "import pandas as pd"
   ]
  },
  {
   "cell_type": "code",
   "execution_count": 4,
   "id": "c68d4bda-5959-4bbb-a25b-e2c2ee373265",
   "metadata": {},
   "outputs": [
    {
     "name": "stdout",
     "output_type": "stream",
     "text": [
      "    Duration          Date  Pulse  Maxpulse  Calories\n",
      "0         60  '2020/12/01'    110       130     409.1\n",
      "1         60  '2020/12/02'    117       145     479.0\n",
      "2         60  '2020/12/03'    103       135     340.0\n",
      "3         45  '2020/12/04'    109       175     282.4\n",
      "4         45  '2020/12/05'    117       148     406.0\n",
      "5         60  '2020/12/06'    102       127    -300.0\n",
      "6         60  '2020/12/07'    110       136     374.0\n",
      "7        450  '2020/12/08'    104       134     253.3\n",
      "8         30  '2020/12/09'    109       133     195.1\n",
      "9         60  '2020/12/10'     98       124     269.0\n",
      "10        60  '2020/12/11'    103       147     329.3\n",
      "11        60  '2020/12/12'    100       120     250.7\n",
      "12        60  '2020/12/12'    100       120     250.7\n",
      "13        60  '2020/12/13'    106       128     345.3\n",
      "14        60  '2020/12/14'    104       132     379.3\n",
      "15        60  '2020/12/15'     98       123     275.0\n",
      "16        60  '2020/12/16'     98       120     215.2\n",
      "17        60  '2020/12/17'    100       120     300.0\n",
      "18        45  '2020/12/18'     90       112       NaN\n",
      "19        60  '2020/12/19'    103       123     323.0\n",
      "20        45  '2020/12/20'     97       125     243.0\n",
      "21        60  '2020/12/21'    108       131     364.2\n",
      "22        45           NaN    100       119     282.0\n",
      "23        60  '2020/12/23'    130       101     300.0\n",
      "24        45  '2020/12/24'    105       132     246.0\n",
      "25        60  '2020/12/25'    102       126     334.5\n",
      "26        60      20201226    100       120     250.0\n",
      "27        60  '2020/12/27'     92       118     241.0\n",
      "28        60  '2020/12/28'    103       132       NaN\n",
      "29        60  '2020/12/29'    100       132    -280.0\n",
      "30        60  '2020/12/30'    102       129     380.3\n",
      "31        60  '2020/12/31'     92       115     243.0\n"
     ]
    }
   ],
   "source": [
    "##reading csv file\n",
    "df1 = pd.read_csv('dirtydata.csv')\n",
    "print(df1)"
   ]
  },
  {
   "cell_type": "code",
   "execution_count": 5,
   "id": "d288baa6-5e02-42e8-84d1-6f7378556037",
   "metadata": {},
   "outputs": [
    {
     "name": "stdout",
     "output_type": "stream",
     "text": [
      "<class 'pandas.core.frame.DataFrame'>\n",
      "RangeIndex: 32 entries, 0 to 31\n",
      "Data columns (total 5 columns):\n",
      " #   Column    Non-Null Count  Dtype  \n",
      "---  ------    --------------  -----  \n",
      " 0   Duration  32 non-null     int64  \n",
      " 1   Date      31 non-null     object \n",
      " 2   Pulse     32 non-null     int64  \n",
      " 3   Maxpulse  32 non-null     int64  \n",
      " 4   Calories  30 non-null     float64\n",
      "dtypes: float64(1), int64(3), object(1)\n",
      "memory usage: 1.4+ KB\n",
      "None\n"
     ]
    }
   ],
   "source": [
    "print(df1.info())"
   ]
  },
  {
   "cell_type": "code",
   "execution_count": 6,
   "id": "af6fb9d6-322f-4f1a-98f7-ccfb18ff72de",
   "metadata": {},
   "outputs": [
    {
     "name": "stdout",
     "output_type": "stream",
     "text": [
      "    Duration   Date  Pulse  Maxpulse  Calories\n",
      "0      False  False  False     False     False\n",
      "1      False  False  False     False     False\n",
      "2      False  False  False     False     False\n",
      "3      False  False  False     False     False\n",
      "4      False  False  False     False     False\n",
      "5      False  False  False     False     False\n",
      "6      False  False  False     False     False\n",
      "7      False  False  False     False     False\n",
      "8      False  False  False     False     False\n",
      "9      False  False  False     False     False\n",
      "10     False  False  False     False     False\n",
      "11     False  False  False     False     False\n",
      "12     False  False  False     False     False\n",
      "13     False  False  False     False     False\n",
      "14     False  False  False     False     False\n",
      "15     False  False  False     False     False\n",
      "16     False  False  False     False     False\n",
      "17     False  False  False     False     False\n",
      "18     False  False  False     False      True\n",
      "19     False  False  False     False     False\n",
      "20     False  False  False     False     False\n",
      "21     False  False  False     False     False\n",
      "22     False   True  False     False     False\n",
      "23     False  False  False     False     False\n",
      "24     False  False  False     False     False\n",
      "25     False  False  False     False     False\n",
      "26     False  False  False     False     False\n",
      "27     False  False  False     False     False\n",
      "28     False  False  False     False      True\n",
      "29     False  False  False     False     False\n",
      "30     False  False  False     False     False\n",
      "31     False  False  False     False     False\n"
     ]
    }
   ],
   "source": [
    "##Checking null values\n",
    "print(df1.isnull())"
   ]
  },
  {
   "cell_type": "code",
   "execution_count": 7,
   "id": "ed6c5f9e-7a12-43c0-97a2-3eea3bc941b6",
   "metadata": {},
   "outputs": [
    {
     "name": "stdout",
     "output_type": "stream",
     "text": [
      "Duration    0\n",
      "Date        1\n",
      "Pulse       0\n",
      "Maxpulse    0\n",
      "Calories    2\n",
      "dtype: int64\n"
     ]
    }
   ],
   "source": [
    "#checking count of null values for each attribute\n",
    "print(df1.isnull().sum())"
   ]
  },
  {
   "cell_type": "code",
   "execution_count": 8,
   "id": "36a9ce18-7d6c-4ca7-9a92-5ac20ae483f6",
   "metadata": {},
   "outputs": [
    {
     "name": "stdout",
     "output_type": "stream",
     "text": [
      "266.0133333333333\n"
     ]
    }
   ],
   "source": [
    "##Getting mean for Calories\n",
    "x = df1['Calories'].mean()\n",
    "print(x)"
   ]
  },
  {
   "cell_type": "code",
   "execution_count": 9,
   "id": "1056b030-fe9b-4db1-a0b3-fa42ed3d32a4",
   "metadata": {},
   "outputs": [
    {
     "name": "stderr",
     "output_type": "stream",
     "text": [
      "/tmp/ipykernel_12046/575704058.py:2: FutureWarning: A value is trying to be set on a copy of a DataFrame or Series through chained assignment using an inplace method.\n",
      "The behavior will change in pandas 3.0. This inplace method will never work because the intermediate object on which we are setting values always behaves as a copy.\n",
      "\n",
      "For example, when doing 'df[col].method(value, inplace=True)', try using 'df.method({col: value}, inplace=True)' or df[col] = df[col].method(value) instead, to perform the operation inplace on the original object.\n",
      "\n",
      "\n",
      "  df1['Calories'].fillna(x,inplace = True)\n"
     ]
    }
   ],
   "source": [
    "##Filling null place\n",
    "df1['Calories'].fillna(x,inplace = True)"
   ]
  },
  {
   "cell_type": "code",
   "execution_count": 10,
   "id": "d4d9db0d-050c-48c4-af2e-ae09daefe38b",
   "metadata": {},
   "outputs": [
    {
     "name": "stdout",
     "output_type": "stream",
     "text": [
      "    Duration          Date  Pulse  Maxpulse    Calories\n",
      "0         60  '2020/12/01'    110       130  409.100000\n",
      "1         60  '2020/12/02'    117       145  479.000000\n",
      "2         60  '2020/12/03'    103       135  340.000000\n",
      "3         45  '2020/12/04'    109       175  282.400000\n",
      "4         45  '2020/12/05'    117       148  406.000000\n",
      "5         60  '2020/12/06'    102       127 -300.000000\n",
      "6         60  '2020/12/07'    110       136  374.000000\n",
      "7        450  '2020/12/08'    104       134  253.300000\n",
      "8         30  '2020/12/09'    109       133  195.100000\n",
      "9         60  '2020/12/10'     98       124  269.000000\n",
      "10        60  '2020/12/11'    103       147  329.300000\n",
      "11        60  '2020/12/12'    100       120  250.700000\n",
      "12        60  '2020/12/12'    100       120  250.700000\n",
      "13        60  '2020/12/13'    106       128  345.300000\n",
      "14        60  '2020/12/14'    104       132  379.300000\n",
      "15        60  '2020/12/15'     98       123  275.000000\n",
      "16        60  '2020/12/16'     98       120  215.200000\n",
      "17        60  '2020/12/17'    100       120  300.000000\n",
      "18        45  '2020/12/18'     90       112  266.013333\n",
      "19        60  '2020/12/19'    103       123  323.000000\n",
      "20        45  '2020/12/20'     97       125  243.000000\n",
      "21        60  '2020/12/21'    108       131  364.200000\n",
      "22        45           NaN    100       119  282.000000\n",
      "23        60  '2020/12/23'    130       101  300.000000\n",
      "24        45  '2020/12/24'    105       132  246.000000\n",
      "25        60  '2020/12/25'    102       126  334.500000\n",
      "26        60      20201226    100       120  250.000000\n",
      "27        60  '2020/12/27'     92       118  241.000000\n",
      "28        60  '2020/12/28'    103       132  266.013333\n",
      "29        60  '2020/12/29'    100       132 -280.000000\n",
      "30        60  '2020/12/30'    102       129  380.300000\n",
      "31        60  '2020/12/31'     92       115  243.000000\n"
     ]
    }
   ],
   "source": [
    "print(df1)"
   ]
  },
  {
   "cell_type": "code",
   "execution_count": 11,
   "id": "6b0ffed9-4713-493e-8d27-5e10132e8c8b",
   "metadata": {},
   "outputs": [
    {
     "name": "stdout",
     "output_type": "stream",
     "text": [
      "    Duration   Date  Pulse  Maxpulse  Calories\n",
      "0      False  False  False     False     False\n",
      "1      False  False  False     False     False\n",
      "2      False  False  False     False     False\n",
      "3      False  False  False     False     False\n",
      "4      False  False  False     False     False\n",
      "5      False  False  False     False     False\n",
      "6      False  False  False     False     False\n",
      "7      False  False  False     False     False\n",
      "8      False  False  False     False     False\n",
      "9      False  False  False     False     False\n",
      "10     False  False  False     False     False\n",
      "11     False  False  False     False     False\n",
      "12     False  False  False     False     False\n",
      "13     False  False  False     False     False\n",
      "14     False  False  False     False     False\n",
      "15     False  False  False     False     False\n",
      "16     False  False  False     False     False\n",
      "17     False  False  False     False     False\n",
      "18     False  False  False     False     False\n",
      "19     False  False  False     False     False\n",
      "20     False  False  False     False     False\n",
      "21     False  False  False     False     False\n",
      "22     False   True  False     False     False\n",
      "23     False  False  False     False     False\n",
      "24     False  False  False     False     False\n",
      "25     False  False  False     False     False\n",
      "26     False  False  False     False     False\n",
      "27     False  False  False     False     False\n",
      "28     False  False  False     False     False\n",
      "29     False  False  False     False     False\n",
      "30     False  False  False     False     False\n",
      "31     False  False  False     False     False\n"
     ]
    }
   ],
   "source": [
    "##checking null values\n",
    "print(df1.isnull())"
   ]
  },
  {
   "cell_type": "code",
   "execution_count": 12,
   "id": "f74a30b7-2710-45fe-a732-b106b1abbe8f",
   "metadata": {},
   "outputs": [
    {
     "name": "stdout",
     "output_type": "stream",
     "text": [
      "    Duration          Date  Pulse  Maxpulse    Calories\n",
      "0         60  '2020/12/01'    110       130  409.100000\n",
      "1         60  '2020/12/02'    117       145  479.000000\n",
      "2         60  '2020/12/03'    103       135  340.000000\n",
      "3         45  '2020/12/04'    109       175  282.400000\n",
      "4         45  '2020/12/05'    117       148  406.000000\n",
      "5         60  '2020/12/06'    102       127  300.000000\n",
      "6         60  '2020/12/07'    110       136  374.000000\n",
      "7        450  '2020/12/08'    104       134  253.300000\n",
      "8         30  '2020/12/09'    109       133  195.100000\n",
      "9         60  '2020/12/10'     98       124  269.000000\n",
      "10        60  '2020/12/11'    103       147  329.300000\n",
      "11        60  '2020/12/12'    100       120  250.700000\n",
      "12        60  '2020/12/12'    100       120  250.700000\n",
      "13        60  '2020/12/13'    106       128  345.300000\n",
      "14        60  '2020/12/14'    104       132  379.300000\n",
      "15        60  '2020/12/15'     98       123  275.000000\n",
      "16        60  '2020/12/16'     98       120  215.200000\n",
      "17        60  '2020/12/17'    100       120  300.000000\n",
      "18        45  '2020/12/18'     90       112  266.013333\n",
      "19        60  '2020/12/19'    103       123  323.000000\n",
      "20        45  '2020/12/20'     97       125  243.000000\n",
      "21        60  '2020/12/21'    108       131  364.200000\n",
      "22        45           NaN    100       119  282.000000\n",
      "23        60  '2020/12/23'    130       101  300.000000\n",
      "24        45  '2020/12/24'    105       132  246.000000\n",
      "25        60  '2020/12/25'    102       126  334.500000\n",
      "26        60      20201226    100       120  250.000000\n",
      "27        60  '2020/12/27'     92       118  241.000000\n",
      "28        60  '2020/12/28'    103       132  266.013333\n",
      "29        60  '2020/12/29'    100       132  280.000000\n",
      "30        60  '2020/12/30'    102       129  380.300000\n",
      "31        60  '2020/12/31'     92       115  243.000000\n"
     ]
    }
   ],
   "source": [
    "##Getting absolute value\n",
    "df1['Calories']=df1['Calories'].abs()\n",
    "print(df1)"
   ]
  },
  {
   "cell_type": "code",
   "execution_count": 13,
   "id": "ce808e82-f4a7-4e67-9929-9f4c7e0b8056",
   "metadata": {},
   "outputs": [],
   "source": [
    "#drop nan in date field\n",
    "df1.dropna(subset='Date',inplace=True)"
   ]
  },
  {
   "cell_type": "code",
   "execution_count": 14,
   "id": "04f8688a-2013-44eb-a865-fddd470cedbc",
   "metadata": {},
   "outputs": [
    {
     "name": "stdout",
     "output_type": "stream",
     "text": [
      "    Duration          Date  Pulse  Maxpulse    Calories\n",
      "0         60  '2020/12/01'    110       130  409.100000\n",
      "1         60  '2020/12/02'    117       145  479.000000\n",
      "2         60  '2020/12/03'    103       135  340.000000\n",
      "3         45  '2020/12/04'    109       175  282.400000\n",
      "4         45  '2020/12/05'    117       148  406.000000\n",
      "5         60  '2020/12/06'    102       127  300.000000\n",
      "6         60  '2020/12/07'    110       136  374.000000\n",
      "7        450  '2020/12/08'    104       134  253.300000\n",
      "8         30  '2020/12/09'    109       133  195.100000\n",
      "9         60  '2020/12/10'     98       124  269.000000\n",
      "10        60  '2020/12/11'    103       147  329.300000\n",
      "11        60  '2020/12/12'    100       120  250.700000\n",
      "12        60  '2020/12/12'    100       120  250.700000\n",
      "13        60  '2020/12/13'    106       128  345.300000\n",
      "14        60  '2020/12/14'    104       132  379.300000\n",
      "15        60  '2020/12/15'     98       123  275.000000\n",
      "16        60  '2020/12/16'     98       120  215.200000\n",
      "17        60  '2020/12/17'    100       120  300.000000\n",
      "18        45  '2020/12/18'     90       112  266.013333\n",
      "19        60  '2020/12/19'    103       123  323.000000\n",
      "20        45  '2020/12/20'     97       125  243.000000\n",
      "21        60  '2020/12/21'    108       131  364.200000\n",
      "23        60  '2020/12/23'    130       101  300.000000\n",
      "24        45  '2020/12/24'    105       132  246.000000\n",
      "25        60  '2020/12/25'    102       126  334.500000\n",
      "26        60      20201226    100       120  250.000000\n",
      "27        60  '2020/12/27'     92       118  241.000000\n",
      "28        60  '2020/12/28'    103       132  266.013333\n",
      "29        60  '2020/12/29'    100       132  280.000000\n",
      "30        60  '2020/12/30'    102       129  380.300000\n",
      "31        60  '2020/12/31'     92       115  243.000000\n"
     ]
    }
   ],
   "source": [
    "print(df1)"
   ]
  },
  {
   "cell_type": "code",
   "execution_count": 15,
   "id": "810b029d-6870-4aa2-92a2-e1990a96703b",
   "metadata": {},
   "outputs": [
    {
     "name": "stdout",
     "output_type": "stream",
     "text": [
      "<class 'pandas.core.frame.DataFrame'>\n",
      "Index: 31 entries, 0 to 31\n",
      "Data columns (total 5 columns):\n",
      " #   Column    Non-Null Count  Dtype  \n",
      "---  ------    --------------  -----  \n",
      " 0   Duration  31 non-null     int64  \n",
      " 1   Date      31 non-null     object \n",
      " 2   Pulse     31 non-null     int64  \n",
      " 3   Maxpulse  31 non-null     int64  \n",
      " 4   Calories  31 non-null     float64\n",
      "dtypes: float64(1), int64(3), object(1)\n",
      "memory usage: 1.5+ KB\n",
      "None\n"
     ]
    }
   ],
   "source": [
    "print(df1.info())"
   ]
  },
  {
   "cell_type": "code",
   "execution_count": 16,
   "id": "5f84158b-3a29-4239-898c-2b2665eb4f88",
   "metadata": {},
   "outputs": [
    {
     "name": "stdout",
     "output_type": "stream",
     "text": [
      "<bound method NDFrame.describe of     Duration          Date  Pulse  Maxpulse    Calories\n",
      "0         60  '2020/12/01'    110       130  409.100000\n",
      "1         60  '2020/12/02'    117       145  479.000000\n",
      "2         60  '2020/12/03'    103       135  340.000000\n",
      "3         45  '2020/12/04'    109       175  282.400000\n",
      "4         45  '2020/12/05'    117       148  406.000000\n",
      "5         60  '2020/12/06'    102       127  300.000000\n",
      "6         60  '2020/12/07'    110       136  374.000000\n",
      "7        450  '2020/12/08'    104       134  253.300000\n",
      "8         30  '2020/12/09'    109       133  195.100000\n",
      "9         60  '2020/12/10'     98       124  269.000000\n",
      "10        60  '2020/12/11'    103       147  329.300000\n",
      "11        60  '2020/12/12'    100       120  250.700000\n",
      "12        60  '2020/12/12'    100       120  250.700000\n",
      "13        60  '2020/12/13'    106       128  345.300000\n",
      "14        60  '2020/12/14'    104       132  379.300000\n",
      "15        60  '2020/12/15'     98       123  275.000000\n",
      "16        60  '2020/12/16'     98       120  215.200000\n",
      "17        60  '2020/12/17'    100       120  300.000000\n",
      "18        45  '2020/12/18'     90       112  266.013333\n",
      "19        60  '2020/12/19'    103       123  323.000000\n",
      "20        45  '2020/12/20'     97       125  243.000000\n",
      "21        60  '2020/12/21'    108       131  364.200000\n",
      "23        60  '2020/12/23'    130       101  300.000000\n",
      "24        45  '2020/12/24'    105       132  246.000000\n",
      "25        60  '2020/12/25'    102       126  334.500000\n",
      "26        60      20201226    100       120  250.000000\n",
      "27        60  '2020/12/27'     92       118  241.000000\n",
      "28        60  '2020/12/28'    103       132  266.013333\n",
      "29        60  '2020/12/29'    100       132  280.000000\n",
      "30        60  '2020/12/30'    102       129  380.300000\n",
      "31        60  '2020/12/31'     92       115  243.000000>\n"
     ]
    }
   ],
   "source": [
    "print(df1.describe)"
   ]
  },
  {
   "cell_type": "code",
   "execution_count": 17,
   "id": "e83dd307-a9a2-4160-bb96-f2b7538bdd1e",
   "metadata": {},
   "outputs": [],
   "source": [
    "df1['Date'] = pd.to_datetime(df1['Date'],format='mixed')\n",
    "#converting Date int date-time format"
   ]
  },
  {
   "cell_type": "code",
   "execution_count": 18,
   "id": "911cdb1d-4f20-49f2-882c-93f578cc5302",
   "metadata": {},
   "outputs": [
    {
     "name": "stdout",
     "output_type": "stream",
     "text": [
      "<class 'pandas.core.frame.DataFrame'>\n",
      "Index: 31 entries, 0 to 31\n",
      "Data columns (total 5 columns):\n",
      " #   Column    Non-Null Count  Dtype         \n",
      "---  ------    --------------  -----         \n",
      " 0   Duration  31 non-null     int64         \n",
      " 1   Date      31 non-null     datetime64[ns]\n",
      " 2   Pulse     31 non-null     int64         \n",
      " 3   Maxpulse  31 non-null     int64         \n",
      " 4   Calories  31 non-null     float64       \n",
      "dtypes: datetime64[ns](1), float64(1), int64(3)\n",
      "memory usage: 1.5 KB\n",
      "None\n"
     ]
    }
   ],
   "source": [
    "print(df1.info())"
   ]
  },
  {
   "cell_type": "code",
   "execution_count": 19,
   "id": "febbf57b-db48-48e9-9ef2-51358910fcf4",
   "metadata": {},
   "outputs": [],
   "source": [
    "df1['Calories'] = df1['Calories'].astype(int)\n",
    "#converting calories into integer"
   ]
  },
  {
   "cell_type": "code",
   "execution_count": 20,
   "id": "1ca412f4-e50b-4f05-a195-8ece2fe1d170",
   "metadata": {},
   "outputs": [
    {
     "name": "stdout",
     "output_type": "stream",
     "text": [
      "<class 'pandas.core.frame.DataFrame'>\n",
      "Index: 31 entries, 0 to 31\n",
      "Data columns (total 5 columns):\n",
      " #   Column    Non-Null Count  Dtype         \n",
      "---  ------    --------------  -----         \n",
      " 0   Duration  31 non-null     int64         \n",
      " 1   Date      31 non-null     datetime64[ns]\n",
      " 2   Pulse     31 non-null     int64         \n",
      " 3   Maxpulse  31 non-null     int64         \n",
      " 4   Calories  31 non-null     int64         \n",
      "dtypes: datetime64[ns](1), int64(4)\n",
      "memory usage: 1.5 KB\n",
      "None\n"
     ]
    }
   ],
   "source": [
    "print(df1.info())"
   ]
  },
  {
   "cell_type": "code",
   "execution_count": 21,
   "id": "f0905f77-cbbc-4d14-a3c7-b04c3c90d69e",
   "metadata": {},
   "outputs": [
    {
     "name": "stdout",
     "output_type": "stream",
     "text": [
      "    Duration       Date  Pulse  Maxpulse  Calories\n",
      "0         60 2020-12-01    110       130       409\n",
      "1         60 2020-12-02    117       145       479\n",
      "2         60 2020-12-03    103       135       340\n",
      "3         45 2020-12-04    109       175       282\n",
      "4         45 2020-12-05    117       148       406\n",
      "5         60 2020-12-06    102       127       300\n",
      "6         60 2020-12-07    110       136       374\n",
      "7        450 2020-12-08    104       134       253\n",
      "8         30 2020-12-09    109       133       195\n",
      "9         60 2020-12-10     98       124       269\n",
      "10        60 2020-12-11    103       147       329\n",
      "11        60 2020-12-12    100       120       250\n",
      "12        60 2020-12-12    100       120       250\n",
      "13        60 2020-12-13    106       128       345\n",
      "14        60 2020-12-14    104       132       379\n",
      "15        60 2020-12-15     98       123       275\n",
      "16        60 2020-12-16     98       120       215\n",
      "17        60 2020-12-17    100       120       300\n",
      "18        45 2020-12-18     90       112       266\n",
      "19        60 2020-12-19    103       123       323\n",
      "20        45 2020-12-20     97       125       243\n",
      "21        60 2020-12-21    108       131       364\n",
      "23        60 2020-12-23    130       101       300\n",
      "24        45 2020-12-24    105       132       246\n",
      "25        60 2020-12-25    102       126       334\n",
      "26        60 2020-12-26    100       120       250\n",
      "27        60 2020-12-27     92       118       241\n",
      "28        60 2020-12-28    103       132       266\n",
      "29        60 2020-12-29    100       132       280\n",
      "30        60 2020-12-30    102       129       380\n",
      "31        60 2020-12-31     92       115       243\n"
     ]
    }
   ],
   "source": [
    "print(df1)"
   ]
  },
  {
   "cell_type": "code",
   "execution_count": 22,
   "id": "253e96f0-2613-4d31-9ee5-d1994456b06f",
   "metadata": {},
   "outputs": [],
   "source": [
    "df1.loc[7,'Duration'] = 45\n",
    "#changing duration 450 to 45"
   ]
  },
  {
   "cell_type": "code",
   "execution_count": 23,
   "id": "b2f5e9da-24ad-4429-af62-256e67846ca6",
   "metadata": {},
   "outputs": [
    {
     "name": "stdout",
     "output_type": "stream",
     "text": [
      "    Duration       Date  Pulse  Maxpulse  Calories\n",
      "0         60 2020-12-01    110       130       409\n",
      "1         60 2020-12-02    117       145       479\n",
      "2         60 2020-12-03    103       135       340\n",
      "3         45 2020-12-04    109       175       282\n",
      "4         45 2020-12-05    117       148       406\n",
      "5         60 2020-12-06    102       127       300\n",
      "6         60 2020-12-07    110       136       374\n",
      "7         45 2020-12-08    104       134       253\n",
      "8         30 2020-12-09    109       133       195\n",
      "9         60 2020-12-10     98       124       269\n",
      "10        60 2020-12-11    103       147       329\n",
      "11        60 2020-12-12    100       120       250\n",
      "12        60 2020-12-12    100       120       250\n",
      "13        60 2020-12-13    106       128       345\n",
      "14        60 2020-12-14    104       132       379\n",
      "15        60 2020-12-15     98       123       275\n",
      "16        60 2020-12-16     98       120       215\n",
      "17        60 2020-12-17    100       120       300\n",
      "18        45 2020-12-18     90       112       266\n",
      "19        60 2020-12-19    103       123       323\n",
      "20        45 2020-12-20     97       125       243\n",
      "21        60 2020-12-21    108       131       364\n",
      "23        60 2020-12-23    130       101       300\n",
      "24        45 2020-12-24    105       132       246\n",
      "25        60 2020-12-25    102       126       334\n",
      "26        60 2020-12-26    100       120       250\n",
      "27        60 2020-12-27     92       118       241\n",
      "28        60 2020-12-28    103       132       266\n",
      "29        60 2020-12-29    100       132       280\n",
      "30        60 2020-12-30    102       129       380\n",
      "31        60 2020-12-31     92       115       243\n"
     ]
    }
   ],
   "source": [
    "print(df1)"
   ]
  },
  {
   "cell_type": "code",
   "execution_count": 24,
   "id": "06ffcc8f-d50b-47a7-a23a-2935c2603727",
   "metadata": {},
   "outputs": [
    {
     "data": {
      "text/plain": [
       "1"
      ]
     },
     "execution_count": 24,
     "metadata": {},
     "output_type": "execute_result"
    }
   ],
   "source": [
    "#checking duplicates\n",
    "df1.duplicated().sum()"
   ]
  },
  {
   "cell_type": "code",
   "execution_count": 25,
   "id": "01775c22-004e-4d16-9b2f-6800c0b1f6dd",
   "metadata": {},
   "outputs": [],
   "source": [
    "df1.drop_duplicates(inplace=True)\n",
    "#dropping duplictes value"
   ]
  },
  {
   "cell_type": "code",
   "execution_count": 26,
   "id": "158d6dee-85e7-4c82-8a53-a320e8e83763",
   "metadata": {},
   "outputs": [
    {
     "data": {
      "text/plain": [
       "0"
      ]
     },
     "execution_count": 26,
     "metadata": {},
     "output_type": "execute_result"
    }
   ],
   "source": [
    "df1.duplicated().sum()"
   ]
  },
  {
   "cell_type": "code",
   "execution_count": 27,
   "id": "73d1f66e-e624-40e2-9c68-38555200b3c3",
   "metadata": {},
   "outputs": [
    {
     "name": "stdout",
     "output_type": "stream",
     "text": [
      "              Name            Team  Number Position   Age Height  Weight  \\\n",
      "0    Avery Bradley  Boston Celtics     0.0       PG  25.0    6-2   180.0   \n",
      "1      Jae Crowder  Boston Celtics    99.0       SF  25.0    6-6   235.0   \n",
      "2     John Holland  Boston Celtics    30.0       SG  27.0    6-5   205.0   \n",
      "3      R.J. Hunter  Boston Celtics    28.0       SG  22.0    6-5   185.0   \n",
      "4    Jonas Jerebko  Boston Celtics     8.0       PF  29.0   6-10   231.0   \n",
      "..             ...             ...     ...      ...   ...    ...     ...   \n",
      "453   Shelvin Mack       Utah Jazz     8.0       PG  26.0    6-3   203.0   \n",
      "454      Raul Neto       Utah Jazz    25.0       PG  24.0    6-1   179.0   \n",
      "455   Tibor Pleiss       Utah Jazz    21.0        C  26.0    7-3   256.0   \n",
      "456    Jeff Withey       Utah Jazz    24.0        C  26.0    7-0   231.0   \n",
      "457            NaN             NaN     NaN      NaN   NaN    NaN     NaN   \n",
      "\n",
      "               College     Salary  \n",
      "0                Texas  7730337.0  \n",
      "1            Marquette  6796117.0  \n",
      "2    Boston University        NaN  \n",
      "3        Georgia State  1148640.0  \n",
      "4                  NaN  5000000.0  \n",
      "..                 ...        ...  \n",
      "453             Butler  2433333.0  \n",
      "454                NaN   900000.0  \n",
      "455                NaN  2900000.0  \n",
      "456             Kansas   947276.0  \n",
      "457                NaN        NaN  \n",
      "\n",
      "[458 rows x 9 columns]\n"
     ]
    }
   ],
   "source": [
    "##Reading nba.csv file\n",
    "df2 = pd.read_csv('nba.csv')\n",
    "print(df2)"
   ]
  },
  {
   "cell_type": "code",
   "execution_count": 28,
   "id": "55d1694d-86aa-4c61-984c-57c243fb1835",
   "metadata": {},
   "outputs": [
    {
     "name": "stdout",
     "output_type": "stream",
     "text": [
      "<class 'pandas.core.frame.DataFrame'>\n",
      "RangeIndex: 458 entries, 0 to 457\n",
      "Data columns (total 9 columns):\n",
      " #   Column    Non-Null Count  Dtype  \n",
      "---  ------    --------------  -----  \n",
      " 0   Name      457 non-null    object \n",
      " 1   Team      457 non-null    object \n",
      " 2   Number    457 non-null    float64\n",
      " 3   Position  457 non-null    object \n",
      " 4   Age       457 non-null    float64\n",
      " 5   Height    457 non-null    object \n",
      " 6   Weight    457 non-null    float64\n",
      " 7   College   373 non-null    object \n",
      " 8   Salary    446 non-null    float64\n",
      "dtypes: float64(4), object(5)\n",
      "memory usage: 32.3+ KB\n",
      "None\n"
     ]
    }
   ],
   "source": [
    "print(df2.info())"
   ]
  },
  {
   "cell_type": "code",
   "execution_count": 29,
   "id": "deede59b-32ea-47e5-995b-47c4a2a93870",
   "metadata": {},
   "outputs": [
    {
     "name": "stdout",
     "output_type": "stream",
     "text": [
      "           Number         Age      Weight        Salary\n",
      "count  457.000000  457.000000  457.000000  4.460000e+02\n",
      "mean    17.678337   26.938731  221.522976  4.842684e+06\n",
      "std     15.966090    4.404016   26.368343  5.229238e+06\n",
      "min      0.000000   19.000000  161.000000  3.088800e+04\n",
      "25%      5.000000   24.000000  200.000000  1.044792e+06\n",
      "50%     13.000000   26.000000  220.000000  2.839073e+06\n",
      "75%     25.000000   30.000000  240.000000  6.500000e+06\n",
      "max     99.000000   40.000000  307.000000  2.500000e+07\n"
     ]
    }
   ],
   "source": [
    "print(df2.describe())"
   ]
  },
  {
   "cell_type": "code",
   "execution_count": 30,
   "id": "94efa2c6-4d24-4717-a22f-85988c53a1e0",
   "metadata": {},
   "outputs": [
    {
     "name": "stdout",
     "output_type": "stream",
     "text": [
      "            Name            Team  Number Position   Age Height  Weight  \\\n",
      "0  Avery Bradley  Boston Celtics     0.0       PG  25.0    6-2   180.0   \n",
      "1    Jae Crowder  Boston Celtics    99.0       SF  25.0    6-6   235.0   \n",
      "2   John Holland  Boston Celtics    30.0       SG  27.0    6-5   205.0   \n",
      "3    R.J. Hunter  Boston Celtics    28.0       SG  22.0    6-5   185.0   \n",
      "4  Jonas Jerebko  Boston Celtics     8.0       PF  29.0   6-10   231.0   \n",
      "\n",
      "             College     Salary  \n",
      "0              Texas  7730337.0  \n",
      "1          Marquette  6796117.0  \n",
      "2  Boston University        NaN  \n",
      "3      Georgia State  1148640.0  \n",
      "4                NaN  5000000.0  \n"
     ]
    }
   ],
   "source": [
    "##printing top 5 rows\n",
    "print(df2.head())"
   ]
  },
  {
   "cell_type": "code",
   "execution_count": 31,
   "id": "8586aad6-5a49-4c55-9687-b8b19659ad29",
   "metadata": {},
   "outputs": [
    {
     "name": "stdout",
     "output_type": "stream",
     "text": [
      "Duration    0\n",
      "Date        0\n",
      "Pulse       0\n",
      "Maxpulse    0\n",
      "Calories    0\n",
      "dtype: int64\n"
     ]
    }
   ],
   "source": [
    "##Getting null values\n",
    "print(df1.isnull().sum())"
   ]
  },
  {
   "cell_type": "code",
   "execution_count": 32,
   "id": "14c2aea7-fe5c-46f5-8e09-e97c4ed63b79",
   "metadata": {},
   "outputs": [
    {
     "name": "stdout",
     "output_type": "stream",
     "text": [
      "['PG' 'SF' 'SG' 'PF' 'C' nan]\n"
     ]
    }
   ],
   "source": [
    "##printing unique value\n",
    "print(df2['Position'].unique())"
   ]
  },
  {
   "cell_type": "code",
   "execution_count": 33,
   "id": "5b0617f0-9c02-4b0d-8689-f238a9fe3a90",
   "metadata": {},
   "outputs": [
    {
     "name": "stdout",
     "output_type": "stream",
     "text": [
      "[ 0.  1.  2.  3.  4. nan]\n"
     ]
    },
    {
     "name": "stderr",
     "output_type": "stream",
     "text": [
      "/tmp/ipykernel_12046/1665399696.py:2: FutureWarning: A value is trying to be set on a copy of a DataFrame or Series through chained assignment using an inplace method.\n",
      "The behavior will change in pandas 3.0. This inplace method will never work because the intermediate object on which we are setting values always behaves as a copy.\n",
      "\n",
      "For example, when doing 'df[col].method(value, inplace=True)', try using 'df.method({col: value}, inplace=True)' or df[col] = df[col].method(value) instead, to perform the operation inplace on the original object.\n",
      "\n",
      "\n",
      "  df2['Position'].replace(['PG','SF','SG','PF','C'],[0,1,2,3,4],inplace=True)\n",
      "/tmp/ipykernel_12046/1665399696.py:2: FutureWarning: Downcasting behavior in `replace` is deprecated and will be removed in a future version. To retain the old behavior, explicitly call `result.infer_objects(copy=False)`. To opt-in to the future behavior, set `pd.set_option('future.no_silent_downcasting', True)`\n",
      "  df2['Position'].replace(['PG','SF','SG','PF','C'],[0,1,2,3,4],inplace=True)\n"
     ]
    }
   ],
   "source": [
    "##converting categorical data into numerical data\n",
    "df2['Position'].replace(['PG','SF','SG','PF','C'],[0,1,2,3,4],inplace=True)\n",
    "print(df2['Position'].unique())"
   ]
  },
  {
   "cell_type": "code",
   "execution_count": 34,
   "id": "ce718e08-369d-40b3-bbcf-e7ae7f1c6c7a",
   "metadata": {},
   "outputs": [],
   "source": [
    "##Code encoding\n",
    "from sklearn import preprocessing"
   ]
  },
  {
   "cell_type": "code",
   "execution_count": 35,
   "id": "dd234fc3-df30-4495-bfc6-26e5313c4d7f",
   "metadata": {},
   "outputs": [],
   "source": [
    "##Label Encoding\n",
    "le = preprocessing.LabelEncoder()"
   ]
  },
  {
   "cell_type": "code",
   "execution_count": 36,
   "id": "894ea504-19b2-4ac9-a4bd-a01168f05358",
   "metadata": {},
   "outputs": [],
   "source": [
    "##Copy of dataframe2\n",
    "df3 = df2.copy()"
   ]
  },
  {
   "cell_type": "code",
   "execution_count": 37,
   "id": "797bb7c3-b564-4b21-9b01-6b4400ce94fc",
   "metadata": {},
   "outputs": [
    {
     "name": "stdout",
     "output_type": "stream",
     "text": [
      "              Name            Team  Number  Position   Age Height  Weight  \\\n",
      "0    Avery Bradley  Boston Celtics     0.0       0.0  25.0    6-2   180.0   \n",
      "1      Jae Crowder  Boston Celtics    99.0       1.0  25.0    6-6   235.0   \n",
      "2     John Holland  Boston Celtics    30.0       2.0  27.0    6-5   205.0   \n",
      "3      R.J. Hunter  Boston Celtics    28.0       2.0  22.0    6-5   185.0   \n",
      "4    Jonas Jerebko  Boston Celtics     8.0       3.0  29.0   6-10   231.0   \n",
      "..             ...             ...     ...       ...   ...    ...     ...   \n",
      "453   Shelvin Mack       Utah Jazz     8.0       0.0  26.0    6-3   203.0   \n",
      "454      Raul Neto       Utah Jazz    25.0       0.0  24.0    6-1   179.0   \n",
      "455   Tibor Pleiss       Utah Jazz    21.0       4.0  26.0    7-3   256.0   \n",
      "456    Jeff Withey       Utah Jazz    24.0       4.0  26.0    7-0   231.0   \n",
      "457            NaN             NaN     NaN       NaN   NaN    NaN     NaN   \n",
      "\n",
      "               College     Salary  \n",
      "0                Texas  7730337.0  \n",
      "1            Marquette  6796117.0  \n",
      "2    Boston University        NaN  \n",
      "3        Georgia State  1148640.0  \n",
      "4                  NaN  5000000.0  \n",
      "..                 ...        ...  \n",
      "453             Butler  2433333.0  \n",
      "454                NaN   900000.0  \n",
      "455                NaN  2900000.0  \n",
      "456             Kansas   947276.0  \n",
      "457                NaN        NaN  \n",
      "\n",
      "[458 rows x 9 columns]\n"
     ]
    }
   ],
   "source": [
    "print(df3)"
   ]
  },
  {
   "cell_type": "code",
   "execution_count": 38,
   "id": "02c2816a-df88-4a51-9ea6-1e0fdc408d04",
   "metadata": {},
   "outputs": [
    {
     "name": "stdout",
     "output_type": "stream",
     "text": [
      "              Name            Team  Number  Position   Age Height  Weight  \\\n",
      "0    Avery Bradley  Boston Celtics     0.0         0  25.0    6-2   180.0   \n",
      "1      Jae Crowder  Boston Celtics    99.0         1  25.0    6-6   235.0   \n",
      "2     John Holland  Boston Celtics    30.0         2  27.0    6-5   205.0   \n",
      "3      R.J. Hunter  Boston Celtics    28.0         2  22.0    6-5   185.0   \n",
      "4    Jonas Jerebko  Boston Celtics     8.0         3  29.0   6-10   231.0   \n",
      "..             ...             ...     ...       ...   ...    ...     ...   \n",
      "453   Shelvin Mack       Utah Jazz     8.0         0  26.0    6-3   203.0   \n",
      "454      Raul Neto       Utah Jazz    25.0         0  24.0    6-1   179.0   \n",
      "455   Tibor Pleiss       Utah Jazz    21.0         4  26.0    7-3   256.0   \n",
      "456    Jeff Withey       Utah Jazz    24.0         4  26.0    7-0   231.0   \n",
      "457            NaN             NaN     NaN         5   NaN    NaN     NaN   \n",
      "\n",
      "               College     Salary  \n",
      "0                Texas  7730337.0  \n",
      "1            Marquette  6796117.0  \n",
      "2    Boston University        NaN  \n",
      "3        Georgia State  1148640.0  \n",
      "4                  NaN  5000000.0  \n",
      "..                 ...        ...  \n",
      "453             Butler  2433333.0  \n",
      "454                NaN   900000.0  \n",
      "455                NaN  2900000.0  \n",
      "456             Kansas   947276.0  \n",
      "457                NaN        NaN  \n",
      "\n",
      "[458 rows x 9 columns]\n"
     ]
    }
   ],
   "source": [
    "##Encoding position\n",
    "df3['Position'] = le.fit_transform(df3['Position'])\n",
    "print(df3)                  "
   ]
  },
  {
   "cell_type": "code",
   "execution_count": 39,
   "id": "b6cb06e0-ef1d-45cc-9f99-4959bd842c0b",
   "metadata": {},
   "outputs": [
    {
     "name": "stdout",
     "output_type": "stream",
     "text": [
      "[0 1 2 3 4 5]\n"
     ]
    }
   ],
   "source": [
    "print(df3['Position'].unique())"
   ]
  },
  {
   "cell_type": "code",
   "execution_count": 40,
   "id": "171643c4-531d-4044-8a95-d17e62d058dc",
   "metadata": {},
   "outputs": [
    {
     "name": "stdout",
     "output_type": "stream",
     "text": [
      "[ 1  2 19 22 27  9 12 13 23 25  4  5  8 11 16  6 10 14 18 26  0  3 15 21\n",
      " 29  7 17 20 24 28 30]\n"
     ]
    }
   ],
   "source": [
    "##Encoding Teams\n",
    "df3['Team'] = le.fit_transform(df3['Team'])\n",
    "print(df3['Team'].unique())"
   ]
  },
  {
   "cell_type": "code",
   "execution_count": 41,
   "id": "a8766ae9-bbab-4a8b-9a12-b369fe44ec46",
   "metadata": {},
   "outputs": [
    {
     "data": {
      "text/plain": [
       "0                  Texas\n",
       "1              Marquette\n",
       "2      Boston University\n",
       "3          Georgia State\n",
       "4                    NaN\n",
       "             ...        \n",
       "453               Butler\n",
       "454                  NaN\n",
       "455                  NaN\n",
       "456               Kansas\n",
       "457                  NaN\n",
       "Name: College, Length: 458, dtype: object"
      ]
     },
     "execution_count": 41,
     "metadata": {},
     "output_type": "execute_result"
    }
   ],
   "source": [
    "df2.pop('College')"
   ]
  },
  {
   "cell_type": "code",
   "execution_count": 42,
   "id": "36d704a1-81fe-4cad-bfc7-90a9aeeb5f1a",
   "metadata": {},
   "outputs": [
    {
     "name": "stdout",
     "output_type": "stream",
     "text": [
      "              Name            Team  Number  Position   Age Height  Weight  \\\n",
      "0    Avery Bradley  Boston Celtics     0.0       0.0  25.0    6-2   180.0   \n",
      "1      Jae Crowder  Boston Celtics    99.0       1.0  25.0    6-6   235.0   \n",
      "2     John Holland  Boston Celtics    30.0       2.0  27.0    6-5   205.0   \n",
      "3      R.J. Hunter  Boston Celtics    28.0       2.0  22.0    6-5   185.0   \n",
      "4    Jonas Jerebko  Boston Celtics     8.0       3.0  29.0   6-10   231.0   \n",
      "..             ...             ...     ...       ...   ...    ...     ...   \n",
      "453   Shelvin Mack       Utah Jazz     8.0       0.0  26.0    6-3   203.0   \n",
      "454      Raul Neto       Utah Jazz    25.0       0.0  24.0    6-1   179.0   \n",
      "455   Tibor Pleiss       Utah Jazz    21.0       4.0  26.0    7-3   256.0   \n",
      "456    Jeff Withey       Utah Jazz    24.0       4.0  26.0    7-0   231.0   \n",
      "457            NaN             NaN     NaN       NaN   NaN    NaN     NaN   \n",
      "\n",
      "        Salary  \n",
      "0    7730337.0  \n",
      "1    6796117.0  \n",
      "2          NaN  \n",
      "3    1148640.0  \n",
      "4    5000000.0  \n",
      "..         ...  \n",
      "453  2433333.0  \n",
      "454   900000.0  \n",
      "455  2900000.0  \n",
      "456   947276.0  \n",
      "457        NaN  \n",
      "\n",
      "[458 rows x 8 columns]\n"
     ]
    }
   ],
   "source": [
    "print(df2)"
   ]
  },
  {
   "cell_type": "code",
   "execution_count": 43,
   "id": "2b497652-6090-4f9f-9a0e-74689fa771a7",
   "metadata": {},
   "outputs": [
    {
     "data": {
      "text/plain": [
       "0                  Texas\n",
       "1              Marquette\n",
       "2      Boston University\n",
       "3          Georgia State\n",
       "4                    NaN\n",
       "             ...        \n",
       "453               Butler\n",
       "454                  NaN\n",
       "455                  NaN\n",
       "456               Kansas\n",
       "457                  NaN\n",
       "Name: College, Length: 458, dtype: object"
      ]
     },
     "execution_count": 43,
     "metadata": {},
     "output_type": "execute_result"
    }
   ],
   "source": [
    "##Dropping column name College\n",
    "df3.pop('College')"
   ]
  },
  {
   "cell_type": "code",
   "execution_count": 44,
   "id": "d0a5cc35-04e6-4af0-8988-c58c782b61de",
   "metadata": {},
   "outputs": [
    {
     "name": "stdout",
     "output_type": "stream",
     "text": [
      "              Name  Team  Number  Position   Age Height  Weight     Salary\n",
      "0    Avery Bradley     1     0.0         0  25.0    6-2   180.0  7730337.0\n",
      "1      Jae Crowder     1    99.0         1  25.0    6-6   235.0  6796117.0\n",
      "2     John Holland     1    30.0         2  27.0    6-5   205.0        NaN\n",
      "3      R.J. Hunter     1    28.0         2  22.0    6-5   185.0  1148640.0\n",
      "4    Jonas Jerebko     1     8.0         3  29.0   6-10   231.0  5000000.0\n",
      "..             ...   ...     ...       ...   ...    ...     ...        ...\n",
      "453   Shelvin Mack    28     8.0         0  26.0    6-3   203.0  2433333.0\n",
      "454      Raul Neto    28    25.0         0  24.0    6-1   179.0   900000.0\n",
      "455   Tibor Pleiss    28    21.0         4  26.0    7-3   256.0  2900000.0\n",
      "456    Jeff Withey    28    24.0         4  26.0    7-0   231.0   947276.0\n",
      "457            NaN    30     NaN         5   NaN    NaN     NaN        NaN\n",
      "\n",
      "[458 rows x 8 columns]\n"
     ]
    }
   ],
   "source": [
    "##New Dataframe\n",
    "print(df3)"
   ]
  },
  {
   "cell_type": "code",
   "execution_count": 45,
   "id": "ec28e3f9-7fe3-4945-b0a1-fa3f5c735d31",
   "metadata": {},
   "outputs": [],
   "source": [
    "df_PG = df3[df3['Position']==0]"
   ]
  },
  {
   "cell_type": "code",
   "execution_count": 46,
   "id": "1342ce05-16fd-4e45-8027-f48189e0aa5f",
   "metadata": {},
   "outputs": [
    {
     "name": "stdout",
     "output_type": "stream",
     "text": [
      "              Name  Team  Number  Position   Age Height  Weight     Salary\n",
      "0    Avery Bradley     1     0.0         0  25.0    6-2   180.0  7730337.0\n",
      "8     Terry Rozier     1    12.0         0  22.0    6-2   190.0  1824360.0\n",
      "9     Marcus Smart     1    36.0         0  22.0    6-4   220.0  3431040.0\n",
      "11   Isaiah Thomas     1     4.0         0  27.0    5-9   185.0  6912869.0\n",
      "19    Jarrett Jack     2     2.0         0  32.0    6-3   200.0  6300000.0\n",
      "..             ...   ...     ...       ...   ...    ...     ...        ...\n",
      "440  Brian Roberts    24     2.0         0  30.0    6-1   173.0  2854940.0\n",
      "443     Trey Burke    28     3.0         0  23.0    6-1   191.0  2658240.0\n",
      "445     Dante Exum    28    11.0         0  20.0    6-6   190.0  3777720.0\n",
      "453   Shelvin Mack    28     8.0         0  26.0    6-3   203.0  2433333.0\n",
      "454      Raul Neto    28    25.0         0  24.0    6-1   179.0   900000.0\n",
      "\n",
      "[92 rows x 8 columns]\n"
     ]
    }
   ],
   "source": [
    "print(df_PG)"
   ]
  },
  {
   "cell_type": "code",
   "execution_count": 47,
   "id": "58ecedf8-ff1f-4964-bc62-c8a84dfcde52",
   "metadata": {},
   "outputs": [
    {
     "name": "stdout",
     "output_type": "stream",
     "text": [
      "4\n"
     ]
    }
   ],
   "source": [
    "print(df_PG['Salary'].isnull().sum())"
   ]
  },
  {
   "cell_type": "code",
   "execution_count": 48,
   "id": "2f0bdaf9-fb78-4a4d-a94c-1b5415850d02",
   "metadata": {},
   "outputs": [
    {
     "name": "stdout",
     "output_type": "stream",
     "text": [
      "5077829.215909091\n"
     ]
    }
   ],
   "source": [
    "a = df_PG['Salary'].mean()\n",
    "print(a)"
   ]
  },
  {
   "cell_type": "code",
   "execution_count": 50,
   "id": "442bd0db-1056-4a50-9dd7-70f00af49c9f",
   "metadata": {},
   "outputs": [
    {
     "name": "stdout",
     "output_type": "stream",
     "text": [
      "0\n"
     ]
    }
   ],
   "source": [
    "print(df_PG['Salary'].isnull().sum())"
   ]
  },
  {
   "cell_type": "code",
   "execution_count": 51,
   "id": "4b134de8-ea21-49dd-b5ef-b3e0da0f234b",
   "metadata": {},
   "outputs": [],
   "source": [
    "df_SG = df3[df3['Position']==1]\n",
    "##Complete this function"
   ]
  },
  {
   "cell_type": "code",
   "execution_count": 52,
   "id": "ba56e4a6-fb75-4781-916f-c5188017e19a",
   "metadata": {},
   "outputs": [
    {
     "name": "stdout",
     "output_type": "stream",
     "text": [
      "                       Name  Team  Number  Position   Age Height  Weight  \\\n",
      "1               Jae Crowder     1    99.0         1  25.0    6-6   235.0   \n",
      "32   Thanasis Antetokounmpo    19    43.0         1  23.0    6-7   205.0   \n",
      "33          Carmelo Anthony    19     7.0         1  32.0    6-8   240.0   \n",
      "35         Cleanthony Early    19    11.0         1  25.0    6-8   210.0   \n",
      "42             Lance Thomas    19    42.0         1  28.0    6-8   235.0   \n",
      "..                      ...   ...     ...       ...   ...    ...     ...   \n",
      "428         Al-Farouq Aminu    24     8.0         1  25.0    6-9   215.0   \n",
      "432        Maurice Harkless    24     4.0         1  23.0    6-9   215.0   \n",
      "448          Gordon Hayward    28    20.0         1  26.0    6-8   226.0   \n",
      "450              Joe Ingles    28     2.0         1  28.0    6-8   226.0   \n",
      "451           Chris Johnson    28    23.0         1  26.0    6-6   206.0   \n",
      "\n",
      "         Salary  \n",
      "1     6796117.0  \n",
      "32      30888.0  \n",
      "33   22875000.0  \n",
      "35     845059.0  \n",
      "42    1636842.0  \n",
      "..          ...  \n",
      "428   8042895.0  \n",
      "432   2894059.0  \n",
      "448  15409570.0  \n",
      "450   2050000.0  \n",
      "451    981348.0  \n",
      "\n",
      "[85 rows x 8 columns]\n"
     ]
    }
   ],
   "source": [
    "print(df_SG)"
   ]
  },
  {
   "cell_type": "code",
   "execution_count": 53,
   "id": "580d5365-ede9-40a9-a1e1-a311e011e89b",
   "metadata": {},
   "outputs": [
    {
     "name": "stdout",
     "output_type": "stream",
     "text": [
      "4857392.571428572\n"
     ]
    }
   ],
   "source": [
    "b = df_SG['Salary'].mean()\n",
    "print(b)"
   ]
  },
  {
   "cell_type": "code",
   "execution_count": 55,
   "id": "652c5b3b-c7d1-4010-aa55-def586ab64fc",
   "metadata": {},
   "outputs": [
    {
     "name": "stdout",
     "output_type": "stream",
     "text": [
      "                 Name  Team  Number  Position   Age Height  Weight     Salary\n",
      "2        John Holland     1    30.0         2  27.0    6-5   205.0        NaN\n",
      "3         R.J. Hunter     1    28.0         2  22.0    6-5   185.0  1148640.0\n",
      "12        Evan Turner     1    11.0         2  27.0    6-7   220.0  3425510.0\n",
      "13        James Young     1    13.0         2  20.0    6-6   215.0  1749840.0\n",
      "15   Bojan Bogdanovic     2    44.0         2  27.0    6-8   216.0  3425510.0\n",
      "..                ...   ...     ...       ...   ...    ...     ...        ...\n",
      "433  Gerald Henderson    24     9.0         2  28.0    6-5   215.0  6000000.0\n",
      "437     C.J. McCollum    24     3.0         2  24.0    6-4   200.0  2525160.0\n",
      "438      Luis Montero    24    44.0         2  23.0    6-7   185.0   525093.0\n",
      "444        Alec Burks    28    10.0         2  24.0    6-6   214.0  9463484.0\n",
      "449       Rodney Hood    28     5.0         2  23.0    6-8   206.0  1348440.0\n",
      "\n",
      "[102 rows x 8 columns]\n"
     ]
    }
   ],
   "source": [
    "df_SF = df3[df3['Position']==2]\n",
    "print(df_SF)"
   ]
  },
  {
   "cell_type": "code",
   "execution_count": 56,
   "id": "793b4994-e75c-4c3e-8d5f-9d90c141e828",
   "metadata": {},
   "outputs": [],
   "source": [
    "c = df_SF['Salary'].mean()"
   ]
  },
  {
   "cell_type": "code",
   "execution_count": 58,
   "id": "ceab24de-27ab-4202-bbe5-bab3aa85c3f7",
   "metadata": {},
   "outputs": [
    {
     "name": "stdout",
     "output_type": "stream",
     "text": [
      "                 Name  Team  Number  Position   Age Height  Weight      Salary\n",
      "4       Jonas Jerebko     1     8.0         3  29.0   6-10   231.0   5000000.0\n",
      "5        Amir Johnson     1    90.0         3  29.0    6-9   240.0  12000000.0\n",
      "6       Jordan Mickey     1    55.0         3  21.0    6-8   235.0   1170960.0\n",
      "24   Chris McCullough     2     1.0         3  21.0   6-11   200.0   1140240.0\n",
      "25        Willie Reed     2    33.0         3  26.0   6-10   220.0    947276.0\n",
      "..                ...   ...     ...       ...   ...    ...     ...         ...\n",
      "435    Meyers Leonard    24    11.0         3  24.0    7-1   245.0   3075880.0\n",
      "441       Noah Vonleh    24    21.0         3  20.0    6-9   240.0   2637720.0\n",
      "442     Trevor Booker    28    33.0         3  28.0    6-8   228.0   4775000.0\n",
      "446    Derrick Favors    28    15.0         3  24.0   6-10   265.0  12000000.0\n",
      "452        Trey Lyles    28    41.0         3  20.0   6-10   234.0   2239800.0\n",
      "\n",
      "[100 rows x 8 columns]\n"
     ]
    }
   ],
   "source": [
    "df_PF = df3[df3['Position']==3]\n",
    "print(df_PF)"
   ]
  },
  {
   "cell_type": "code",
   "execution_count": 59,
   "id": "d9588e9a-26e8-4e81-8472-ca87c616ee79",
   "metadata": {},
   "outputs": [
    {
     "name": "stdout",
     "output_type": "stream",
     "text": [
      "4562482.989690722\n"
     ]
    }
   ],
   "source": [
    "d = df_PF['Salary'].mean()\n",
    "print(d)"
   ]
  },
  {
   "cell_type": "code",
   "execution_count": 61,
   "id": "09f77811-3b2b-45c2-b99e-49db1a791506",
   "metadata": {},
   "outputs": [
    {
     "name": "stdout",
     "output_type": "stream",
     "text": [
      "                Name  Team  Number  Position   Age Height  Weight      Salary\n",
      "7       Kelly Olynyk     1    41.0         4  25.0    7-0   238.0   2165160.0\n",
      "10   Jared Sullinger     1     7.0         4  24.0    6-9   260.0   2569260.0\n",
      "14      Tyler Zeller     1    44.0         4  26.0    7-0   253.0   2616975.0\n",
      "23       Brook Lopez     2    11.0         4  28.0    7-0   275.0  19689000.0\n",
      "27        Henry Sims     2    14.0         4  26.0   6-10   248.0    947276.0\n",
      "..               ...   ...     ...       ...   ...    ...     ...         ...\n",
      "434      Chris Kaman    24    35.0         4  34.0    7-0   265.0   5016000.0\n",
      "439    Mason Plumlee    24    24.0         4  26.0   6-11   235.0   1415520.0\n",
      "447      Rudy Gobert    28    27.0         4  23.0    7-1   245.0   1175880.0\n",
      "455     Tibor Pleiss    28    21.0         4  26.0    7-3   256.0   2900000.0\n",
      "456      Jeff Withey    28    24.0         4  26.0    7-0   231.0    947276.0\n",
      "\n",
      "[78 rows x 8 columns]\n"
     ]
    }
   ],
   "source": [
    "df_C = df3[df3['Position']==4]\n",
    "print(df_C)"
   ]
  },
  {
   "cell_type": "code",
   "execution_count": 62,
   "id": "c47c194d-497a-4067-8253-78801df07860",
   "metadata": {},
   "outputs": [
    {
     "name": "stdout",
     "output_type": "stream",
     "text": [
      "5967052.0\n"
     ]
    }
   ],
   "source": [
    "e = df_C['Salary'].mean()\n",
    "print(e)"
   ]
  },
  {
   "cell_type": "code",
   "execution_count": 64,
   "id": "79383ca6-bd8d-45fd-94c8-014c9b94d89a",
   "metadata": {},
   "outputs": [],
   "source": [
    "##Converting numerical data into categorical data\n",
    "cat_Age = pd.cut(df3['Age'],bins=[19,25,30,35,41],labels=['A','B','C','D'])"
   ]
  },
  {
   "cell_type": "code",
   "execution_count": 65,
   "id": "75e05c2e-7082-4d99-afd2-9872c1fa443f",
   "metadata": {},
   "outputs": [
    {
     "name": "stdout",
     "output_type": "stream",
     "text": [
      "              Name  Team  Number  Position   Age Height  Weight     Salary\n",
      "0    Avery Bradley     1     0.0         0  25.0    6-2   180.0  7730337.0\n",
      "1      Jae Crowder     1    99.0         1  25.0    6-6   235.0  6796117.0\n",
      "2     John Holland     1    30.0         2  27.0    6-5   205.0        NaN\n",
      "3      R.J. Hunter     1    28.0         2  22.0    6-5   185.0  1148640.0\n",
      "4    Jonas Jerebko     1     8.0         3  29.0   6-10   231.0  5000000.0\n",
      "..             ...   ...     ...       ...   ...    ...     ...        ...\n",
      "453   Shelvin Mack    28     8.0         0  26.0    6-3   203.0  2433333.0\n",
      "454      Raul Neto    28    25.0         0  24.0    6-1   179.0   900000.0\n",
      "455   Tibor Pleiss    28    21.0         4  26.0    7-3   256.0  2900000.0\n",
      "456    Jeff Withey    28    24.0         4  26.0    7-0   231.0   947276.0\n",
      "457            NaN    30     NaN         5   NaN    NaN     NaN        NaN\n",
      "\n",
      "[458 rows x 8 columns]\n"
     ]
    }
   ],
   "source": [
    "print(df3)"
   ]
  },
  {
   "cell_type": "code",
   "execution_count": 67,
   "id": "a178b85c-52dd-4740-a196-4e35c2729efc",
   "metadata": {},
   "outputs": [],
   "source": [
    "##concatenating different data frames to remove null values from salary\n",
    "df4 = pd.concat([df_PG,df_SG,df_SF,df_PF,df_C])"
   ]
  },
  {
   "cell_type": "code",
   "execution_count": 68,
   "id": "5017ec9e-b65a-4815-8013-d567054d9a4b",
   "metadata": {},
   "outputs": [
    {
     "name": "stdout",
     "output_type": "stream",
     "text": [
      "              Name  Team  Number  Position   Age Height  Weight     Salary\n",
      "0    Avery Bradley     1     0.0         0  25.0    6-2   180.0  7730337.0\n",
      "8     Terry Rozier     1    12.0         0  22.0    6-2   190.0  1824360.0\n",
      "9     Marcus Smart     1    36.0         0  22.0    6-4   220.0  3431040.0\n",
      "11   Isaiah Thomas     1     4.0         0  27.0    5-9   185.0  6912869.0\n",
      "19    Jarrett Jack     2     2.0         0  32.0    6-3   200.0  6300000.0\n",
      "..             ...   ...     ...       ...   ...    ...     ...        ...\n",
      "434    Chris Kaman    24    35.0         4  34.0    7-0   265.0  5016000.0\n",
      "439  Mason Plumlee    24    24.0         4  26.0   6-11   235.0  1415520.0\n",
      "447    Rudy Gobert    28    27.0         4  23.0    7-1   245.0  1175880.0\n",
      "455   Tibor Pleiss    28    21.0         4  26.0    7-3   256.0  2900000.0\n",
      "456    Jeff Withey    28    24.0         4  26.0    7-0   231.0   947276.0\n",
      "\n",
      "[457 rows x 8 columns]\n"
     ]
    }
   ],
   "source": [
    "print(df4)"
   ]
  },
  {
   "cell_type": "code",
   "execution_count": 69,
   "id": "2ac572c8-e082-44e8-9bda-3e2670a58236",
   "metadata": {},
   "outputs": [
    {
     "name": "stdout",
     "output_type": "stream",
     "text": [
      "Name        0\n",
      "Team        0\n",
      "Number      0\n",
      "Position    0\n",
      "Age         0\n",
      "Height      0\n",
      "Weight      0\n",
      "Salary      0\n",
      "dtype: int64\n"
     ]
    }
   ],
   "source": [
    "print(df4.isnull().sum())"
   ]
  },
  {
   "cell_type": "code",
   "execution_count": null,
   "id": "d136faae-1733-411e-ad02-e8677d1273d9",
   "metadata": {},
   "outputs": [],
   "source": []
  }
 ],
 "metadata": {
  "kernelspec": {
   "display_name": "Python 3 (ipykernel)",
   "language": "python",
   "name": "python3"
  },
  "language_info": {
   "codemirror_mode": {
    "name": "ipython",
    "version": 3
   },
   "file_extension": ".py",
   "mimetype": "text/x-python",
   "name": "python",
   "nbconvert_exporter": "python",
   "pygments_lexer": "ipython3",
   "version": "3.10.12"
  }
 },
 "nbformat": 4,
 "nbformat_minor": 5
}
